{
 "cells": [
  {
   "cell_type": "code",
   "execution_count": null,
   "id": "8c96cc8c",
   "metadata": {},
   "outputs": [],
   "source": [
    "!pip install pyspark"
   ]
  },
  {
   "cell_type": "code",
   "execution_count": null,
   "id": "bacd10fd",
   "metadata": {},
   "outputs": [],
   "source": [
    "import pyspark"
   ]
  },
  {
   "cell_type": "code",
   "execution_count": null,
   "id": "e2787cce",
   "metadata": {},
   "outputs": [],
   "source": [
    "import pandas as pd"
   ]
  },
  {
   "cell_type": "code",
   "execution_count": null,
   "id": "2fa56b70",
   "metadata": {},
   "outputs": [],
   "source": [
    "df = pd.read_excel(\"C:/Users/91990/Downloads/Tableau Global Superstore.xlsx\")"
   ]
  },
  {
   "cell_type": "code",
   "execution_count": null,
   "id": "f3b2a605",
   "metadata": {},
   "outputs": [],
   "source": [
    "df.head()"
   ]
  },
  {
   "cell_type": "code",
   "execution_count": 1,
   "id": "834fa66e",
   "metadata": {},
   "outputs": [],
   "source": [
    "from pyspark.sql import SparkSession"
   ]
  },
  {
   "cell_type": "code",
   "execution_count": 2,
   "id": "fe44c9e7",
   "metadata": {},
   "outputs": [],
   "source": [
    "spark = SparkSession.builder.appName(\"testsession1\").getOrCreate()"
   ]
  },
  {
   "cell_type": "code",
   "execution_count": 3,
   "id": "e95e7f69",
   "metadata": {},
   "outputs": [
    {
     "data": {
      "text/html": [
       "\n",
       "            <div>\n",
       "                <p><b>SparkSession - in-memory</b></p>\n",
       "                \n",
       "        <div>\n",
       "            <p><b>SparkContext</b></p>\n",
       "\n",
       "            <p><a href=\"http://DESKTOP-0590UPJ:4040\">Spark UI</a></p>\n",
       "\n",
       "            <dl>\n",
       "              <dt>Version</dt>\n",
       "                <dd><code>v3.3.0</code></dd>\n",
       "              <dt>Master</dt>\n",
       "                <dd><code>local[*]</code></dd>\n",
       "              <dt>AppName</dt>\n",
       "                <dd><code>testsession1</code></dd>\n",
       "            </dl>\n",
       "        </div>\n",
       "        \n",
       "            </div>\n",
       "        "
      ],
      "text/plain": [
       "<pyspark.sql.session.SparkSession at 0x18e33fcd8e0>"
      ]
     },
     "execution_count": 3,
     "metadata": {},
     "output_type": "execute_result"
    }
   ],
   "source": [
    "spark"
   ]
  },
  {
   "cell_type": "code",
   "execution_count": 5,
   "id": "d6d327dd",
   "metadata": {},
   "outputs": [],
   "source": [
    "df_pyspark = spark.read.csv(\"C:/Users/91990/Downloads/testSM.csv\")"
   ]
  },
  {
   "cell_type": "code",
   "execution_count": 6,
   "id": "61a699cc",
   "metadata": {},
   "outputs": [
    {
     "data": {
      "text/plain": [
       "DataFrame[_c0: string, _c1: string, _c2: string, _c3: string, _c4: string, _c5: string, _c6: string, _c7: string, _c8: string, _c9: string, _c10: string, _c11: string, _c12: string, _c13: string, _c14: string, _c15: string, _c16: string, _c17: string, _c18: string, _c19: string, _c20: string, _c21: string, _c22: string, _c23: string]"
      ]
     },
     "execution_count": 6,
     "metadata": {},
     "output_type": "execute_result"
    }
   ],
   "source": [
    "df_pyspark"
   ]
  },
  {
   "cell_type": "code",
   "execution_count": 7,
   "id": "5394d7ef",
   "metadata": {},
   "outputs": [
    {
     "name": "stdout",
     "output_type": "stream",
     "text": [
      "+------+---------------+----------+----------+--------------+-----------+----------------+-----------+-------------+---------------+-------------+-----------+------+------------+----------------+---------------+------------+--------------------+--------+--------+--------+----------+-------------+--------------+\n",
      "|   _c0|            _c1|       _c2|       _c3|           _c4|        _c5|             _c6|        _c7|          _c8|            _c9|         _c10|       _c11|  _c12|        _c13|            _c14|           _c15|        _c16|                _c17|    _c18|    _c19|    _c20|      _c21|         _c22|          _c23|\n",
      "+------+---------------+----------+----------+--------------+-----------+----------------+-----------+-------------+---------------+-------------+-----------+------+------------+----------------+---------------+------------+--------------------+--------+--------+--------+----------+-------------+--------------+\n",
      "|Row ID|       Order ID|Order Date| Ship Date|     Ship Mode|Customer ID|   Customer Name|    Segment|         City|          State|      Country|Postal Code|Market|      Region|      Product ID|       Category|Sub-Category|        Product Name|   Sales|Quantity|Discount|    Profit|Shipping Cost|Order Priority|\n",
      "| 32298| CA-2012-124891|31-07-2012|31-07-2012|      Same Day|   RH-19495|     Rick Hansen|   Consumer|New York City|       New York|United States|      10024|    US|        East| TEC-AC-10003033|     Technology| Accessories|Plantronics CS510...| 2309.65|       7|       0|  762.1845|      933.57 |      Critical|\n",
      "| 26341|  IN-2013-77878|05-02-2013|07-02-2013|  Second Class|   JR-16210|   Justin Ritter|  Corporate|   Wollongong|New South Wales|    Australia|       null|  APAC|     Oceania| FUR-CH-10003950|      Furniture|      Chairs|Novimex Executive...|3709.395|       9|     0.1|  -288.765|      923.63 |      Critical|\n",
      "| 25330|  IN-2013-71249|17-10-2013|18-10-2013|   First Class|   CR-12730|    Craig Reiter|   Consumer|     Brisbane|     Queensland|    Australia|       null|  APAC|     Oceania| TEC-PH-10004664|     Technology|      Phones|Nokia Smart Phone...|5175.171|       9|     0.1|   919.971|      915.49 |        Medium|\n",
      "| 13524|ES-2013-1579342|28-01-2013|30-01-2013|   First Class|   KM-16375|Katherine Murray|Home Office|       Berlin|         Berlin|      Germany|       null|    EU|     Central| TEC-PH-10004583|     Technology|      Phones|Motorola Smart Ph...| 2892.51|       5|     0.1|    -96.54|      910.16 |        Medium|\n",
      "| 47221|   SG-2013-4320|05-11-2013|06-11-2013|      Same Day|    RH-9495|     Rick Hansen|   Consumer|        Dakar|          Dakar|      Senegal|       null|Africa|      Africa|TEC-SHA-10000501|     Technology|     Copiers|Sharp Wireless Fa...| 2832.96|       8|       0|    311.52|      903.04 |      Critical|\n",
      "| 22732|  IN-2013-42360|28-06-2013|01-07-2013|  Second Class|   JM-15655|     Jim Mitchum|  Corporate|       Sydney|New South Wales|    Australia|       null|  APAC|     Oceania| TEC-PH-10000030|     Technology|      Phones|Samsung Smart Pho...|2862.675|       5|     0.1|   763.275|      897.35 |      Critical|\n",
      "| 30570|  IN-2011-81826|07-11-2011|09-11-2011|   First Class|   TS-21340|   Toby Swindell|   Consumer|      Porirua|     Wellington|  New Zealand|       null|  APAC|     Oceania| FUR-CH-10004050|      Furniture|      Chairs|Novimex Executive...| 1822.08|       4|       0|    564.84|       894.77|      Critical|\n",
      "| 31192|  IN-2012-86369|14-04-2012|18-04-2012|Standard Class|   MB-18085|      Mick Brown|   Consumer|     Hamilton|        Waikato|  New Zealand|       null|  APAC|     Oceania| FUR-TA-10002958|      Furniture|      Tables|Chromcraft Confer...| 5244.84|       6|       0|    996.48|       878.38|          High|\n",
      "| 40155| CA-2014-135909|14-10-2014|21-10-2014|Standard Class|   JW-15220|       Jane Waco|  Corporate|   Sacramento|     California|United States|      95823|    US|        West| OFF-BI-10003527|Office Supplies|     Binders|Fellowes PB500 El...| 5083.96|       5|     0.2|  1906.485|      867.69 |           Low|\n",
      "| 40936| CA-2012-116638|28-01-2012|31-01-2012|  Second Class|   JH-15985|     Joseph Holt|   Consumer|      Concord| North Carolina|United States|      28027|    US|       South| FUR-TA-10000198|      Furniture|      Tables|Chromcraft Bull-N...|4297.644|      13|     0.4|-1862.3124|      865.74 |      Critical|\n",
      "| 34577| CA-2011-102988|05-04-2011|09-04-2011|  Second Class|   GM-14695|    Greg Maxwell|  Corporate|   Alexandria|       Virginia|United States|      22304|    US|       South| OFF-SU-10002881|Office Supplies|    Supplies|Martin Yale Chadl...| 4164.05|       5|       0|    83.281|      846.54 |          High|\n",
      "| 28879|  ID-2012-28402|19-04-2012|22-04-2012|   First Class|   AJ-10780|  Anthony Jacobs|  Corporate|        Kabul|          Kabul|  Afghanistan|       null|  APAC|Central Asia| FUR-TA-10001889|      Furniture|      Tables|Bevis Conference ...| 4626.15|       5|       0|    647.55|      835.57 |          High|\n",
      "| 45794|   SA-2011-1830|27-12-2011|29-12-2011|  Second Class|    MM-7260| Magdelene Morse|   Consumer|        Jizan|          Jizan| Saudi Arabia|       null|  EMEA|        EMEA|TEC-CIS-10001717|     Technology|      Phones|Cisco Smart Phone...| 2616.96|       4|       0|    1151.4|      832.41 |      Critical|\n",
      "|  4132| MX-2012-130015|13-11-2012|13-11-2012|      Same Day|   VF-21715|  Vicky Freymann|Home Office|       Toledo|         Parana|       Brazil|       null| LATAM|       South| FUR-CH-10002033|      Furniture|      Chairs|Harbour Creations...|  2221.8|       7|       0|    622.02|      810.25 |      Critical|\n",
      "| 27704|  IN-2013-73951|06-06-2013|08-06-2013|  Second Class|   PF-19120|    Peter Fuller|   Consumer|   Mudanjiang|   Heilongjiang|        China|       null|  APAC|  North Asia| OFF-AP-10003500|Office Supplies|  Appliances|KitchenAid Microw...| 3701.52|      12|       0|   1036.08|      804.54 |      Critical|\n",
      "| 13779|ES-2014-5099955|31-07-2014|03-08-2014|  Second Class|   BP-11185|    Ben Peterman|  Corporate|        Paris|  Ile-de-France|       France|       null|    EU|     Central| OFF-AP-10000423|Office Supplies|  Appliances|Breville Refriger...|1869.588|       4|     0.1|   186.948|      801.66 |      Critical|\n",
      "| 36178| CA-2014-143567|03-11-2014|06-11-2014|  Second Class|   TB-21175|   Thomas Boland|  Corporate|    Henderson|       Kentucky|United States|      42420|    US|       South| TEC-AC-10004145|     Technology| Accessories|Logitech diNovo E...| 2249.91|       9|       0|  517.4793|      780.70 |      Critical|\n",
      "| 12069|ES-2014-1651774|08-09-2014|14-09-2014|Standard Class|   PJ-18835|   Patrick Jones|  Corporate|        Prato|        Tuscany|        Italy|       null|    EU|       South| OFF-AP-10004512|Office Supplies|  Appliances|   Hoover Stove, Red| 7958.58|      14|       0|   3979.08|      778.32 |           Low|\n",
      "| 22096|  IN-2014-11763|31-01-2014|01-02-2014|   First Class|   JS-15685|        Jim Sink|  Corporate|   Townsville|     Queensland|    Australia|       null|  APAC|     Oceania| TEC-CO-10000865|     Technology|     Copiers|Brother Fax Machi...|2565.594|       9|     0.1|    28.404|      766.93 |      Critical|\n",
      "+------+---------------+----------+----------+--------------+-----------+----------------+-----------+-------------+---------------+-------------+-----------+------+------------+----------------+---------------+------------+--------------------+--------+--------+--------+----------+-------------+--------------+\n",
      "only showing top 20 rows\n",
      "\n"
     ]
    }
   ],
   "source": [
    "df_pyspark.show()"
   ]
  },
  {
   "cell_type": "code",
   "execution_count": 8,
   "id": "bfeb4693",
   "metadata": {},
   "outputs": [
    {
     "name": "stdout",
     "output_type": "stream",
     "text": [
      "+------+---------------+----------+----------+--------------+-----------+----------------+-----------+-------------+---------------+-------------+-----------+------+------------+----------------+---------------+------------+--------------------+--------+--------+--------+----------+-------------+--------------+\n",
      "|Row ID|       Order ID|Order Date| Ship Date|     Ship Mode|Customer ID|   Customer Name|    Segment|         City|          State|      Country|Postal Code|Market|      Region|      Product ID|       Category|Sub-Category|        Product Name|   Sales|Quantity|Discount|    Profit|Shipping Cost|Order Priority|\n",
      "+------+---------------+----------+----------+--------------+-----------+----------------+-----------+-------------+---------------+-------------+-----------+------+------------+----------------+---------------+------------+--------------------+--------+--------+--------+----------+-------------+--------------+\n",
      "| 32298| CA-2012-124891|31-07-2012|31-07-2012|      Same Day|   RH-19495|     Rick Hansen|   Consumer|New York City|       New York|United States|      10024|    US|        East| TEC-AC-10003033|     Technology| Accessories|Plantronics CS510...| 2309.65|       7|       0|  762.1845|      933.57 |      Critical|\n",
      "| 26341|  IN-2013-77878|05-02-2013|07-02-2013|  Second Class|   JR-16210|   Justin Ritter|  Corporate|   Wollongong|New South Wales|    Australia|       null|  APAC|     Oceania| FUR-CH-10003950|      Furniture|      Chairs|Novimex Executive...|3709.395|       9|     0.1|  -288.765|      923.63 |      Critical|\n",
      "| 25330|  IN-2013-71249|17-10-2013|18-10-2013|   First Class|   CR-12730|    Craig Reiter|   Consumer|     Brisbane|     Queensland|    Australia|       null|  APAC|     Oceania| TEC-PH-10004664|     Technology|      Phones|Nokia Smart Phone...|5175.171|       9|     0.1|   919.971|      915.49 |        Medium|\n",
      "| 13524|ES-2013-1579342|28-01-2013|30-01-2013|   First Class|   KM-16375|Katherine Murray|Home Office|       Berlin|         Berlin|      Germany|       null|    EU|     Central| TEC-PH-10004583|     Technology|      Phones|Motorola Smart Ph...| 2892.51|       5|     0.1|    -96.54|      910.16 |        Medium|\n",
      "| 47221|   SG-2013-4320|05-11-2013|06-11-2013|      Same Day|    RH-9495|     Rick Hansen|   Consumer|        Dakar|          Dakar|      Senegal|       null|Africa|      Africa|TEC-SHA-10000501|     Technology|     Copiers|Sharp Wireless Fa...| 2832.96|       8|       0|    311.52|      903.04 |      Critical|\n",
      "| 22732|  IN-2013-42360|28-06-2013|01-07-2013|  Second Class|   JM-15655|     Jim Mitchum|  Corporate|       Sydney|New South Wales|    Australia|       null|  APAC|     Oceania| TEC-PH-10000030|     Technology|      Phones|Samsung Smart Pho...|2862.675|       5|     0.1|   763.275|      897.35 |      Critical|\n",
      "| 30570|  IN-2011-81826|07-11-2011|09-11-2011|   First Class|   TS-21340|   Toby Swindell|   Consumer|      Porirua|     Wellington|  New Zealand|       null|  APAC|     Oceania| FUR-CH-10004050|      Furniture|      Chairs|Novimex Executive...| 1822.08|       4|       0|    564.84|       894.77|      Critical|\n",
      "| 31192|  IN-2012-86369|14-04-2012|18-04-2012|Standard Class|   MB-18085|      Mick Brown|   Consumer|     Hamilton|        Waikato|  New Zealand|       null|  APAC|     Oceania| FUR-TA-10002958|      Furniture|      Tables|Chromcraft Confer...| 5244.84|       6|       0|    996.48|       878.38|          High|\n",
      "| 40155| CA-2014-135909|14-10-2014|21-10-2014|Standard Class|   JW-15220|       Jane Waco|  Corporate|   Sacramento|     California|United States|      95823|    US|        West| OFF-BI-10003527|Office Supplies|     Binders|Fellowes PB500 El...| 5083.96|       5|     0.2|  1906.485|      867.69 |           Low|\n",
      "| 40936| CA-2012-116638|28-01-2012|31-01-2012|  Second Class|   JH-15985|     Joseph Holt|   Consumer|      Concord| North Carolina|United States|      28027|    US|       South| FUR-TA-10000198|      Furniture|      Tables|Chromcraft Bull-N...|4297.644|      13|     0.4|-1862.3124|      865.74 |      Critical|\n",
      "| 34577| CA-2011-102988|05-04-2011|09-04-2011|  Second Class|   GM-14695|    Greg Maxwell|  Corporate|   Alexandria|       Virginia|United States|      22304|    US|       South| OFF-SU-10002881|Office Supplies|    Supplies|Martin Yale Chadl...| 4164.05|       5|       0|    83.281|      846.54 |          High|\n",
      "| 28879|  ID-2012-28402|19-04-2012|22-04-2012|   First Class|   AJ-10780|  Anthony Jacobs|  Corporate|        Kabul|          Kabul|  Afghanistan|       null|  APAC|Central Asia| FUR-TA-10001889|      Furniture|      Tables|Bevis Conference ...| 4626.15|       5|       0|    647.55|      835.57 |          High|\n",
      "| 45794|   SA-2011-1830|27-12-2011|29-12-2011|  Second Class|    MM-7260| Magdelene Morse|   Consumer|        Jizan|          Jizan| Saudi Arabia|       null|  EMEA|        EMEA|TEC-CIS-10001717|     Technology|      Phones|Cisco Smart Phone...| 2616.96|       4|       0|    1151.4|      832.41 |      Critical|\n",
      "|  4132| MX-2012-130015|13-11-2012|13-11-2012|      Same Day|   VF-21715|  Vicky Freymann|Home Office|       Toledo|         Parana|       Brazil|       null| LATAM|       South| FUR-CH-10002033|      Furniture|      Chairs|Harbour Creations...|  2221.8|       7|       0|    622.02|      810.25 |      Critical|\n",
      "| 27704|  IN-2013-73951|06-06-2013|08-06-2013|  Second Class|   PF-19120|    Peter Fuller|   Consumer|   Mudanjiang|   Heilongjiang|        China|       null|  APAC|  North Asia| OFF-AP-10003500|Office Supplies|  Appliances|KitchenAid Microw...| 3701.52|      12|       0|   1036.08|      804.54 |      Critical|\n",
      "| 13779|ES-2014-5099955|31-07-2014|03-08-2014|  Second Class|   BP-11185|    Ben Peterman|  Corporate|        Paris|  Ile-de-France|       France|       null|    EU|     Central| OFF-AP-10000423|Office Supplies|  Appliances|Breville Refriger...|1869.588|       4|     0.1|   186.948|      801.66 |      Critical|\n",
      "| 36178| CA-2014-143567|03-11-2014|06-11-2014|  Second Class|   TB-21175|   Thomas Boland|  Corporate|    Henderson|       Kentucky|United States|      42420|    US|       South| TEC-AC-10004145|     Technology| Accessories|Logitech diNovo E...| 2249.91|       9|       0|  517.4793|      780.70 |      Critical|\n",
      "| 12069|ES-2014-1651774|08-09-2014|14-09-2014|Standard Class|   PJ-18835|   Patrick Jones|  Corporate|        Prato|        Tuscany|        Italy|       null|    EU|       South| OFF-AP-10004512|Office Supplies|  Appliances|   Hoover Stove, Red| 7958.58|      14|       0|   3979.08|      778.32 |           Low|\n",
      "| 22096|  IN-2014-11763|31-01-2014|01-02-2014|   First Class|   JS-15685|        Jim Sink|  Corporate|   Townsville|     Queensland|    Australia|       null|  APAC|     Oceania| TEC-CO-10000865|     Technology|     Copiers|Brother Fax Machi...|2565.594|       9|     0.1|    28.404|      766.93 |      Critical|\n",
      "| 49463|   TZ-2014-8190|05-12-2014|07-12-2014|  Second Class|    RH-9555| Ritsa Hightower|   Consumer|       Uvinza|         Kigoma|     Tanzania|       null|Africa|      Africa|OFF-KIT-10004058|Office Supplies|  Appliances|KitchenAid Stove,...| 3409.74|       6|       0|    818.28|      763.38 |          High|\n",
      "+------+---------------+----------+----------+--------------+-----------+----------------+-----------+-------------+---------------+-------------+-----------+------+------------+----------------+---------------+------------+--------------------+--------+--------+--------+----------+-------------+--------------+\n",
      "only showing top 20 rows\n",
      "\n"
     ]
    }
   ],
   "source": [
    "spark.read.option(\"header\",\"true\").csv(\"C:/Users/91990/Downloads/testSM.csv\").show()"
   ]
  },
  {
   "cell_type": "code",
   "execution_count": 9,
   "id": "8bb0da53",
   "metadata": {},
   "outputs": [],
   "source": [
    "df_pyspark = spark.read.option(\"header\",\"true\").csv(\"C:/Users/91990/Downloads/testSM.csv\")"
   ]
  },
  {
   "cell_type": "code",
   "execution_count": 10,
   "id": "31648e3b",
   "metadata": {},
   "outputs": [
    {
     "data": {
      "text/plain": [
       "pyspark.sql.dataframe.DataFrame"
      ]
     },
     "execution_count": 10,
     "metadata": {},
     "output_type": "execute_result"
    }
   ],
   "source": [
    "type(df_pyspark)"
   ]
  },
  {
   "cell_type": "code",
   "execution_count": 11,
   "id": "a7340314",
   "metadata": {},
   "outputs": [
    {
     "data": {
      "text/plain": [
       "Row(Row ID='32298', Order ID='CA-2012-124891', Order Date='31-07-2012', Ship Date='31-07-2012', Ship Mode='Same Day', Customer ID='RH-19495', Customer Name='Rick Hansen', Segment='Consumer', City='New York City', State='New York', Country='United States', Postal Code='10024', Market='US', Region='East', Product ID='TEC-AC-10003033', Category='Technology', Sub-Category='Accessories', Product Name='Plantronics CS510 - Over-the-Head monaural Wireless Headset System', Sales='2309.65', Quantity='7', Discount='0', Profit='762.1845', Shipping Cost=' 933.57 ', Order Priority='Critical')"
      ]
     },
     "execution_count": 11,
     "metadata": {},
     "output_type": "execute_result"
    }
   ],
   "source": [
    "df_pyspark.head()"
   ]
  },
  {
   "cell_type": "code",
   "execution_count": 12,
   "id": "cb691bd3",
   "metadata": {},
   "outputs": [
    {
     "name": "stdout",
     "output_type": "stream",
     "text": [
      "root\n",
      " |-- Row ID: string (nullable = true)\n",
      " |-- Order ID: string (nullable = true)\n",
      " |-- Order Date: string (nullable = true)\n",
      " |-- Ship Date: string (nullable = true)\n",
      " |-- Ship Mode: string (nullable = true)\n",
      " |-- Customer ID: string (nullable = true)\n",
      " |-- Customer Name: string (nullable = true)\n",
      " |-- Segment: string (nullable = true)\n",
      " |-- City: string (nullable = true)\n",
      " |-- State: string (nullable = true)\n",
      " |-- Country: string (nullable = true)\n",
      " |-- Postal Code: string (nullable = true)\n",
      " |-- Market: string (nullable = true)\n",
      " |-- Region: string (nullable = true)\n",
      " |-- Product ID: string (nullable = true)\n",
      " |-- Category: string (nullable = true)\n",
      " |-- Sub-Category: string (nullable = true)\n",
      " |-- Product Name: string (nullable = true)\n",
      " |-- Sales: string (nullable = true)\n",
      " |-- Quantity: string (nullable = true)\n",
      " |-- Discount: string (nullable = true)\n",
      " |-- Profit: string (nullable = true)\n",
      " |-- Shipping Cost: string (nullable = true)\n",
      " |-- Order Priority: string (nullable = true)\n",
      "\n"
     ]
    }
   ],
   "source": [
    "df_pyspark.printSchema()"
   ]
  },
  {
   "cell_type": "code",
   "execution_count": 63,
   "id": "2110a41b",
   "metadata": {},
   "outputs": [],
   "source": [
    "#if inferSchema is false then all the data will be in string, by default it is false\n",
    "#df_pyspark = spark.read.option(\"header\",\"true\").csv(\"C:/Users/91990/Downloads/testSM.csv\", inferSchema = True)\n",
    "df_pyspark = spark.read.csv(\"C:/Users/91990/Downloads/testSM.csv\",header = True, inferSchema = True)\n"
   ]
  },
  {
   "cell_type": "code",
   "execution_count": 64,
   "id": "693859cc",
   "metadata": {},
   "outputs": [
    {
     "name": "stdout",
     "output_type": "stream",
     "text": [
      "root\n",
      " |-- Row ID: integer (nullable = true)\n",
      " |-- Order ID: string (nullable = true)\n",
      " |-- Order Date: string (nullable = true)\n",
      " |-- Ship Date: string (nullable = true)\n",
      " |-- Ship Mode: string (nullable = true)\n",
      " |-- Customer ID: string (nullable = true)\n",
      " |-- Customer Name: string (nullable = true)\n",
      " |-- Segment: string (nullable = true)\n",
      " |-- City: string (nullable = true)\n",
      " |-- State: string (nullable = true)\n",
      " |-- Country: string (nullable = true)\n",
      " |-- Postal Code: integer (nullable = true)\n",
      " |-- Market: string (nullable = true)\n",
      " |-- Region: string (nullable = true)\n",
      " |-- Product ID: string (nullable = true)\n",
      " |-- Category: string (nullable = true)\n",
      " |-- Sub-Category: string (nullable = true)\n",
      " |-- Product Name: string (nullable = true)\n",
      " |-- Sales: string (nullable = true)\n",
      " |-- Quantity: string (nullable = true)\n",
      " |-- Discount: string (nullable = true)\n",
      " |-- Profit: double (nullable = true)\n",
      " |-- Shipping Cost: double (nullable = true)\n",
      " |-- Order Priority: string (nullable = true)\n",
      "\n"
     ]
    }
   ],
   "source": [
    "df_pyspark.printSchema()"
   ]
  },
  {
   "cell_type": "code",
   "execution_count": 18,
   "id": "31b0841b",
   "metadata": {},
   "outputs": [
    {
     "data": {
      "text/plain": [
       "['Row ID',\n",
       " 'Order ID',\n",
       " 'Order Date',\n",
       " 'Ship Date',\n",
       " 'Ship Mode',\n",
       " 'Customer ID',\n",
       " 'Customer Name',\n",
       " 'Segment',\n",
       " 'City',\n",
       " 'State',\n",
       " 'Country',\n",
       " 'Postal Code',\n",
       " 'Market',\n",
       " 'Region',\n",
       " 'Product ID',\n",
       " 'Category',\n",
       " 'Sub-Category',\n",
       " 'Product Name',\n",
       " 'Sales',\n",
       " 'Quantity',\n",
       " 'Discount',\n",
       " 'Profit',\n",
       " 'Shipping Cost',\n",
       " 'Order Priority']"
      ]
     },
     "execution_count": 18,
     "metadata": {},
     "output_type": "execute_result"
    }
   ],
   "source": [
    "df_pyspark.columns"
   ]
  },
  {
   "cell_type": "code",
   "execution_count": 19,
   "id": "73bb216c",
   "metadata": {},
   "outputs": [
    {
     "data": {
      "text/plain": [
       "Row(Row ID=32298, Order ID='CA-2012-124891', Order Date='31-07-2012', Ship Date='31-07-2012', Ship Mode='Same Day', Customer ID='RH-19495', Customer Name='Rick Hansen', Segment='Consumer', City='New York City', State='New York', Country='United States', Postal Code=10024, Market='US', Region='East', Product ID='TEC-AC-10003033', Category='Technology', Sub-Category='Accessories', Product Name='Plantronics CS510 - Over-the-Head monaural Wireless Headset System', Sales='2309.65', Quantity='7', Discount='0', Profit=762.1845, Shipping Cost=933.57, Order Priority='Critical')"
      ]
     },
     "execution_count": 19,
     "metadata": {},
     "output_type": "execute_result"
    }
   ],
   "source": [
    "df_pyspark.head()"
   ]
  },
  {
   "cell_type": "code",
   "execution_count": 21,
   "id": "762fba3f",
   "metadata": {},
   "outputs": [
    {
     "name": "stdout",
     "output_type": "stream",
     "text": [
      "+---------------+--------+\n",
      "|       Order ID|   Sales|\n",
      "+---------------+--------+\n",
      "| CA-2012-124891| 2309.65|\n",
      "|  IN-2013-77878|3709.395|\n",
      "|  IN-2013-71249|5175.171|\n",
      "|ES-2013-1579342| 2892.51|\n",
      "|   SG-2013-4320| 2832.96|\n",
      "|  IN-2013-42360|2862.675|\n",
      "|  IN-2011-81826| 1822.08|\n",
      "|  IN-2012-86369| 5244.84|\n",
      "| CA-2014-135909| 5083.96|\n",
      "| CA-2012-116638|4297.644|\n",
      "| CA-2011-102988| 4164.05|\n",
      "|  ID-2012-28402| 4626.15|\n",
      "|   SA-2011-1830| 2616.96|\n",
      "| MX-2012-130015|  2221.8|\n",
      "|  IN-2013-73951| 3701.52|\n",
      "|ES-2014-5099955|1869.588|\n",
      "| CA-2014-143567| 2249.91|\n",
      "|ES-2014-1651774| 7958.58|\n",
      "|  IN-2014-11763|2565.594|\n",
      "|   TZ-2014-8190| 3409.74|\n",
      "+---------------+--------+\n",
      "only showing top 20 rows\n",
      "\n"
     ]
    }
   ],
   "source": [
    "df_pyspark.select([\"Order ID\", \"Sales\"]).show()"
   ]
  },
  {
   "cell_type": "code",
   "execution_count": 22,
   "id": "a460c249",
   "metadata": {},
   "outputs": [
    {
     "data": {
      "text/plain": [
       "DataFrame[summary: string, Row ID: string, Order ID: string, Order Date: string, Ship Date: string, Ship Mode: string, Customer ID: string, Customer Name: string, Segment: string, City: string, State: string, Country: string, Postal Code: string, Market: string, Region: string, Product ID: string, Category: string, Sub-Category: string, Product Name: string, Sales: string, Quantity: string, Discount: string, Profit: string, Shipping Cost: string, Order Priority: string]"
      ]
     },
     "execution_count": 22,
     "metadata": {},
     "output_type": "execute_result"
    }
   ],
   "source": [
    "df_pyspark.describe()"
   ]
  },
  {
   "cell_type": "code",
   "execution_count": 23,
   "id": "0e97c202",
   "metadata": {},
   "outputs": [
    {
     "name": "stdout",
     "output_type": "stream",
     "text": [
      "+-------+-----------------+------------+----------+----------+--------------+-----------+------------------+-----------+--------------------+------+-----------+------------------+------+------+----------------+----------+------------+--------------------+------------------+------------------+-------------------+----------------+------------------+------------------+\n",
      "|summary|           Row ID|    Order ID|Order Date| Ship Date|     Ship Mode|Customer ID|     Customer Name|    Segment|                City| State|    Country|       Postal Code|Market|Region|      Product ID|  Category|Sub-Category|        Product Name|             Sales|          Quantity|           Discount|          Profit|     Shipping Cost|    Order Priority|\n",
      "+-------+-----------------+------------+----------+----------+--------------+-----------+------------------+-----------+--------------------+------+-----------+------------------+------+------+----------------+----------+------------+--------------------+------------------+------------------+-------------------+----------------+------------------+------------------+\n",
      "|  count|            51290|       51290|     51290|     51290|         51290|      51290|             51290|      51290|               51290| 51290|      51290|              9994| 51290| 51290|           51290|     51290|       51290|               51290|             51290|             51290|              51290|           51290|             51290|             51290|\n",
      "|   mean|          25645.5|        null|      null|      null|          null|       null|              null|       null|                null|  null|       null|  55190.3794276566|  null|  null|            null|      null|        null|                null|247.45540117435087|3.8730907353228003|0.17393517814309223|28.5975408808733|26.373343530902712|6.9448919999999985|\n",
      "| stddev|14806.29199023172|        null|      null|      null|          null|       null|              null|       null|                null|  null|       null|32063.693350364512|  null|  null|            null|      null|        null|                null|488.71690163686037| 11.48156812081267|  1.476315026087872|174.374750869645|57.340290767948254| 13.99106358880635|\n",
      "|    min|                1|AE-2011-9160|01-01-2011|01-01-2012|   First Class|   AA-10315|     Aaron Bergman|   Consumer|              Aachen|'Ajman|Afghanistan|              1040|  APAC|Africa|FUR-ADV-10000002| Furniture| Accessories|\"\"\"While you Were...|          10/Pack\"|      1040 sheets\"|            30/Box\"|       -6599.978|         -292.9872|             0.05 |\n",
      "|    max|            51290|ZI-2014-9650|31-12-2014|31-12-2014|Standard Class|   ZD-21925|Zuschuss Donatelli|Home Office|Águas Lindas de G...|Žilina|   Zimbabwe|             99301|    US|  West|TEC-STA-10004927|Technology|      Tables|netTALK DUO VoIP ...|            999.98|            98.352|             98.352|        8399.976|            933.57|            Medium|\n",
      "+-------+-----------------+------------+----------+----------+--------------+-----------+------------------+-----------+--------------------+------+-----------+------------------+------+------+----------------+----------+------------+--------------------+------------------+------------------+-------------------+----------------+------------------+------------------+\n",
      "\n"
     ]
    }
   ],
   "source": [
    "df_pyspark.describe().show()"
   ]
  },
  {
   "cell_type": "code",
   "execution_count": 24,
   "id": "1aabc48e",
   "metadata": {},
   "outputs": [],
   "source": [
    "#adding column in df"
   ]
  },
  {
   "cell_type": "code",
   "execution_count": 29,
   "id": "24409335",
   "metadata": {},
   "outputs": [],
   "source": [
    "df_pyspark = df_pyspark.withColumn(\"newCol\", df_pyspark[\"Sales\"] + 100)"
   ]
  },
  {
   "cell_type": "code",
   "execution_count": 31,
   "id": "b587d144",
   "metadata": {},
   "outputs": [
    {
     "name": "stdout",
     "output_type": "stream",
     "text": [
      "+--------+--------+\n",
      "|   Sales|  newCol|\n",
      "+--------+--------+\n",
      "| 2309.65| 2409.65|\n",
      "|3709.395|3809.395|\n",
      "|5175.171|5275.171|\n",
      "| 2892.51| 2992.51|\n",
      "| 2832.96| 2932.96|\n",
      "|2862.675|2962.675|\n",
      "| 1822.08| 1922.08|\n",
      "| 5244.84| 5344.84|\n",
      "| 5083.96| 5183.96|\n",
      "|4297.644|4397.644|\n",
      "| 4164.05| 4264.05|\n",
      "| 4626.15| 4726.15|\n",
      "| 2616.96| 2716.96|\n",
      "|  2221.8|  2321.8|\n",
      "| 3701.52| 3801.52|\n",
      "|1869.588|1969.588|\n",
      "| 2249.91| 2349.91|\n",
      "| 7958.58| 8058.58|\n",
      "|2565.594|2665.594|\n",
      "| 3409.74| 3509.74|\n",
      "+--------+--------+\n",
      "only showing top 20 rows\n",
      "\n"
     ]
    }
   ],
   "source": [
    "df_pyspark.select([\"Sales\", \"newCol\"]).show()"
   ]
  },
  {
   "cell_type": "code",
   "execution_count": 32,
   "id": "9292ce71",
   "metadata": {},
   "outputs": [],
   "source": [
    "df_pyspark = df_pyspark.drop(\"newCol\")"
   ]
  },
  {
   "cell_type": "code",
   "execution_count": 33,
   "id": "a1c4b68d",
   "metadata": {},
   "outputs": [
    {
     "data": {
      "text/plain": [
       "DataFrame[Row ID: int, Order ID: string, Order Date: string, Ship Date: string, Ship Mode: string, Customer ID: string, Customer Name: string, Segment: string, City: string, State: string, Country: string, Postal Code: int, Market: string, Region: string, Product ID: string, Category: string, Sub-Category: string, Product Name: string, Sales: string, Quantity: string, Discount: string, Profit: double, Shipping Cost: double, Order Priority: string]"
      ]
     },
     "execution_count": 33,
     "metadata": {},
     "output_type": "execute_result"
    }
   ],
   "source": [
    "df_pyspark"
   ]
  },
  {
   "cell_type": "code",
   "execution_count": 34,
   "id": "731abdfa",
   "metadata": {},
   "outputs": [],
   "source": [
    "#rename col"
   ]
  },
  {
   "cell_type": "code",
   "execution_count": 39,
   "id": "eb42e56b",
   "metadata": {},
   "outputs": [],
   "source": [
    "df_pyspark = df_pyspark.withColumnRenamed(\"Discount\", \"Discounts\")"
   ]
  },
  {
   "cell_type": "code",
   "execution_count": 41,
   "id": "bd3d5cd9",
   "metadata": {},
   "outputs": [
    {
     "name": "stdout",
     "output_type": "stream",
     "text": [
      "+---------+\n",
      "|discounts|\n",
      "+---------+\n",
      "|        0|\n",
      "|      0.1|\n",
      "|      0.1|\n",
      "|      0.1|\n",
      "|        0|\n",
      "|      0.1|\n",
      "|        0|\n",
      "|        0|\n",
      "|      0.2|\n",
      "|      0.4|\n",
      "|        0|\n",
      "|        0|\n",
      "|        0|\n",
      "|        0|\n",
      "|        0|\n",
      "|      0.1|\n",
      "|        0|\n",
      "|        0|\n",
      "|      0.1|\n",
      "|        0|\n",
      "+---------+\n",
      "only showing top 20 rows\n",
      "\n"
     ]
    }
   ],
   "source": [
    "df_pyspark.select(\"discounts\").show()"
   ]
  },
  {
   "cell_type": "code",
   "execution_count": 43,
   "id": "e0123644",
   "metadata": {},
   "outputs": [
    {
     "name": "stdout",
     "output_type": "stream",
     "text": [
      "+------+--------------+----------+----------+--------------+-----------+--------------------+-----------+----------------+--------------+-------------+-----------+------+-------+---------------+---------------+------------+--------------------+--------+--------+---------+----------+-------------+--------------+\n",
      "|Row ID|      Order ID|Order Date| Ship Date|     Ship Mode|Customer ID|       Customer Name|    Segment|            City|         State|      Country|Postal Code|Market| Region|     Product ID|       Category|Sub-Category|        Product Name|   Sales|Quantity|Discounts|    Profit|Shipping Cost|Order Priority|\n",
      "+------+--------------+----------+----------+--------------+-----------+--------------------+-----------+----------------+--------------+-------------+-----------+------+-------+---------------+---------------+------------+--------------------+--------+--------+---------+----------+-------------+--------------+\n",
      "| 32298|CA-2012-124891|31-07-2012|31-07-2012|      Same Day|   RH-19495|         Rick Hansen|   Consumer|   New York City|      New York|United States|      10024|    US|   East|TEC-AC-10003033|     Technology| Accessories|Plantronics CS510...| 2309.65|       7|        0|  762.1845|       933.57|      Critical|\n",
      "| 40155|CA-2014-135909|14-10-2014|21-10-2014|Standard Class|   JW-15220|           Jane Waco|  Corporate|      Sacramento|    California|United States|      95823|    US|   West|OFF-BI-10003527|Office Supplies|     Binders|Fellowes PB500 El...| 5083.96|       5|      0.2|  1906.485|       867.69|           Low|\n",
      "| 40936|CA-2012-116638|28-01-2012|31-01-2012|  Second Class|   JH-15985|         Joseph Holt|   Consumer|         Concord|North Carolina|United States|      28027|    US|  South|FUR-TA-10000198|      Furniture|      Tables|Chromcraft Bull-N...|4297.644|      13|      0.4|-1862.3124|       865.74|      Critical|\n",
      "| 34577|CA-2011-102988|05-04-2011|09-04-2011|  Second Class|   GM-14695|        Greg Maxwell|  Corporate|      Alexandria|      Virginia|United States|      22304|    US|  South|OFF-SU-10002881|Office Supplies|    Supplies|Martin Yale Chadl...| 4164.05|       5|        0|    83.281|       846.54|          High|\n",
      "| 36178|CA-2014-143567|03-11-2014|06-11-2014|  Second Class|   TB-21175|       Thomas Boland|  Corporate|       Henderson|      Kentucky|United States|      42420|    US|  South|TEC-AC-10004145|     Technology| Accessories|Logitech diNovo E...| 2249.91|       9|        0|  517.4793|        780.7|      Critical|\n",
      "| 31784|CA-2011-154627|29-10-2011|31-10-2011|   First Class|   SA-20830|        Sue Ann Reed|   Consumer|         Chicago|      Illinois|United States|      60610|    US|Central|TEC-PH-10001363|     Technology|      Phones|     Apple iPhone 5S|2735.952|       6|      0.2|   341.994|       752.51|          High|\n",
      "| 37311|CA-2013-159016|11-03-2013|12-03-2013|   First Class|   KF-16285|      Karen Ferguson|Home Office|     Los Angeles|    California|United States|      90008|    US|   West|TEC-PH-10002885|     Technology|      Phones|      Apple iPhone 5|4158.912|       8|      0.2|  363.9048|       714.66|          High|\n",
      "| 32735|CA-2012-139731|15-10-2012|15-10-2012|      Same Day|   JE-15745|          Joel Eaton|   Consumer|        Amarillo|         Texas|United States|      79109|    US|Central|FUR-CH-10002024|      Furniture|      Chairs|HON 5400 Series T...| 2453.43|       5|      0.3|   -350.49|       690.42|          High|\n",
      "| 32543|CA-2011-168494|12-12-2011|14-12-2011|  Second Class|   NP-18700|          Nora Preis|   Consumer|          Fresno|    California|United States|      93727|    US|   West|FUR-TA-10003473|      Furniture|      Tables|Bretford Rectangu...|3610.848|      12|      0.2|  135.4068|       683.12|          High|\n",
      "| 36423|CA-2011-160766|14-09-2011|14-09-2011|      Same Day|   DM-13015|       Darrin Martin|   Consumer|   New York City|      New York|United States|      10009|    US|   East|TEC-MA-10003979|     Technology|    Machines|Ativa V4110MDD Mi...| 2799.96|       4|        0| 1371.9804|       675.15|          High|\n",
      "| 31980|US-2014-168116|05-11-2014|05-11-2014|      Same Day|   GT-14635|      Grant Thornton|  Corporate|      Burlington|North Carolina|United States|      27217|    US|  South|TEC-MA-10004125|     Technology|    Machines|Cubify CubeX 3D P...| 7999.98|       4|      0.5|-3839.9904|       674.82|          High|\n",
      "| 35395|CA-2011-116904|23-09-2011|28-09-2011|Standard Class|   SC-20095|        Sanjit Chand|   Consumer|     Minneapolis|     Minnesota|United States|      55407|    US|Central|OFF-BI-10001120|Office Supplies|     Binders|Ibico EPK-21 Elec...| 9449.95|       5|        0| 4630.4755|       655.61|        Medium|\n",
      "| 40046|US-2012-163825|16-06-2012|19-06-2012|   First Class|   LC-16885|      Lena Creighton|   Consumer|   New York City|      New York|United States|      10009|    US|   East|OFF-BI-10003527|Office Supplies|     Binders|Fellowes PB500 El...|3050.376|       3|      0.2|  1143.891|       632.05|          High|\n",
      "| 38198|US-2014-135013|25-07-2014|25-07-2014|      Same Day|   HR-14830|         Harold Ryan|  Corporate|Huntington Beach|    California|United States|      92646|    US|   West|TEC-CO-10001449|     Technology|     Copiers|Hewlett Packard L...| 2399.96|       5|      0.2|   839.986|       630.05|          High|\n",
      "| 32941|CA-2012-111829|19-03-2012|20-03-2012|   First Class|   FH-14365|        Fred Hopkins|  Corporate|         Seattle|    Washington|United States|      98115|    US|   West|TEC-CO-10001766|     Technology|     Copiers|  Canon PC940 Copier| 3149.93|       7|        0| 1480.4671|       617.92|          High|\n",
      "| 35594|CA-2014-129021|24-08-2014|27-08-2014|  Second Class|   PO-18850|     Patrick O'Brill|   Consumer|     Tallahassee|       Florida|United States|      32303|    US|  South|TEC-PH-10001459|     Technology|      Phones|Samsung Galaxy Me...|4367.896|      13|      0.2|  327.5922|       609.44|        Medium|\n",
      "| 39501|CA-2012-114811|08-11-2012|08-11-2012|      Same Day|   KD-16495|       Keith Dawkins|  Corporate|   New York City|      New York|United States|      10024|    US|   East|TEC-MA-10000045|     Technology|    Machines|Zebra ZM400 Therm...|  4643.8|       4|        0|  2229.024|       607.34|        Medium|\n",
      "| 39977|CA-2013-143805|02-12-2013|04-12-2013|  Second Class|   JD-15895|    Jonathan Doherty|  Corporate|        Richmond|      Virginia|United States|      23223|    US|  South|OFF-AP-10002945|Office Supplies|  Appliances|Honeywell Envirac...| 2104.55|       7|        0|  694.5015|       594.02|      Critical|\n",
      "| 31806|CA-2012-145352|16-03-2012|22-03-2012|Standard Class|   CM-12385|Christopher Martinez|   Consumer|         Atlanta|       Georgia|United States|      30318|    US|  South|OFF-BI-10003527|Office Supplies|     Binders|Fellowes PB500 El...| 6354.95|       5|        0|  3177.475|       581.12|        Medium|\n",
      "| 37817|CA-2014-138289|17-01-2014|19-01-2014|  Second Class|   AR-10540|         Andy Reiter|   Consumer|         Jackson|      Michigan|United States|      49201|    US|Central|OFF-BI-10004995|Office Supplies|     Binders|GBC DocuBind P400...| 5443.96|       4|        0| 2504.2216|       567.95|          High|\n",
      "+------+--------------+----------+----------+--------------+-----------+--------------------+-----------+----------------+--------------+-------------+-----------+------+-------+---------------+---------------+------------+--------------------+--------+--------+---------+----------+-------------+--------------+\n",
      "only showing top 20 rows\n",
      "\n"
     ]
    }
   ],
   "source": [
    "df_pyspark.na.drop().show() #will drop complete row if any col has null"
   ]
  },
  {
   "cell_type": "code",
   "execution_count": 45,
   "id": "6545c868",
   "metadata": {},
   "outputs": [
    {
     "name": "stdout",
     "output_type": "stream",
     "text": [
      "+------+---------------+----------+----------+--------------+-----------+----------------+-----------+-------------+---------------+-------------+-----------+------+------------+----------------+---------------+------------+--------------------+--------+--------+---------+----------+-------------+--------------+\n",
      "|Row ID|       Order ID|Order Date| Ship Date|     Ship Mode|Customer ID|   Customer Name|    Segment|         City|          State|      Country|Postal Code|Market|      Region|      Product ID|       Category|Sub-Category|        Product Name|   Sales|Quantity|Discounts|    Profit|Shipping Cost|Order Priority|\n",
      "+------+---------------+----------+----------+--------------+-----------+----------------+-----------+-------------+---------------+-------------+-----------+------+------------+----------------+---------------+------------+--------------------+--------+--------+---------+----------+-------------+--------------+\n",
      "| 32298| CA-2012-124891|31-07-2012|31-07-2012|      Same Day|   RH-19495|     Rick Hansen|   Consumer|New York City|       New York|United States|      10024|    US|        East| TEC-AC-10003033|     Technology| Accessories|Plantronics CS510...| 2309.65|       7|        0|  762.1845|       933.57|      Critical|\n",
      "| 26341|  IN-2013-77878|05-02-2013|07-02-2013|  Second Class|   JR-16210|   Justin Ritter|  Corporate|   Wollongong|New South Wales|    Australia|       null|  APAC|     Oceania| FUR-CH-10003950|      Furniture|      Chairs|Novimex Executive...|3709.395|       9|      0.1|  -288.765|       923.63|      Critical|\n",
      "| 25330|  IN-2013-71249|17-10-2013|18-10-2013|   First Class|   CR-12730|    Craig Reiter|   Consumer|     Brisbane|     Queensland|    Australia|       null|  APAC|     Oceania| TEC-PH-10004664|     Technology|      Phones|Nokia Smart Phone...|5175.171|       9|      0.1|   919.971|       915.49|        Medium|\n",
      "| 13524|ES-2013-1579342|28-01-2013|30-01-2013|   First Class|   KM-16375|Katherine Murray|Home Office|       Berlin|         Berlin|      Germany|       null|    EU|     Central| TEC-PH-10004583|     Technology|      Phones|Motorola Smart Ph...| 2892.51|       5|      0.1|    -96.54|       910.16|        Medium|\n",
      "| 47221|   SG-2013-4320|05-11-2013|06-11-2013|      Same Day|    RH-9495|     Rick Hansen|   Consumer|        Dakar|          Dakar|      Senegal|       null|Africa|      Africa|TEC-SHA-10000501|     Technology|     Copiers|Sharp Wireless Fa...| 2832.96|       8|        0|    311.52|       903.04|      Critical|\n",
      "| 22732|  IN-2013-42360|28-06-2013|01-07-2013|  Second Class|   JM-15655|     Jim Mitchum|  Corporate|       Sydney|New South Wales|    Australia|       null|  APAC|     Oceania| TEC-PH-10000030|     Technology|      Phones|Samsung Smart Pho...|2862.675|       5|      0.1|   763.275|       897.35|      Critical|\n",
      "| 30570|  IN-2011-81826|07-11-2011|09-11-2011|   First Class|   TS-21340|   Toby Swindell|   Consumer|      Porirua|     Wellington|  New Zealand|       null|  APAC|     Oceania| FUR-CH-10004050|      Furniture|      Chairs|Novimex Executive...| 1822.08|       4|        0|    564.84|       894.77|      Critical|\n",
      "| 31192|  IN-2012-86369|14-04-2012|18-04-2012|Standard Class|   MB-18085|      Mick Brown|   Consumer|     Hamilton|        Waikato|  New Zealand|       null|  APAC|     Oceania| FUR-TA-10002958|      Furniture|      Tables|Chromcraft Confer...| 5244.84|       6|        0|    996.48|       878.38|          High|\n",
      "| 40155| CA-2014-135909|14-10-2014|21-10-2014|Standard Class|   JW-15220|       Jane Waco|  Corporate|   Sacramento|     California|United States|      95823|    US|        West| OFF-BI-10003527|Office Supplies|     Binders|Fellowes PB500 El...| 5083.96|       5|      0.2|  1906.485|       867.69|           Low|\n",
      "| 40936| CA-2012-116638|28-01-2012|31-01-2012|  Second Class|   JH-15985|     Joseph Holt|   Consumer|      Concord| North Carolina|United States|      28027|    US|       South| FUR-TA-10000198|      Furniture|      Tables|Chromcraft Bull-N...|4297.644|      13|      0.4|-1862.3124|       865.74|      Critical|\n",
      "| 34577| CA-2011-102988|05-04-2011|09-04-2011|  Second Class|   GM-14695|    Greg Maxwell|  Corporate|   Alexandria|       Virginia|United States|      22304|    US|       South| OFF-SU-10002881|Office Supplies|    Supplies|Martin Yale Chadl...| 4164.05|       5|        0|    83.281|       846.54|          High|\n",
      "| 28879|  ID-2012-28402|19-04-2012|22-04-2012|   First Class|   AJ-10780|  Anthony Jacobs|  Corporate|        Kabul|          Kabul|  Afghanistan|       null|  APAC|Central Asia| FUR-TA-10001889|      Furniture|      Tables|Bevis Conference ...| 4626.15|       5|        0|    647.55|       835.57|          High|\n",
      "| 45794|   SA-2011-1830|27-12-2011|29-12-2011|  Second Class|    MM-7260| Magdelene Morse|   Consumer|        Jizan|          Jizan| Saudi Arabia|       null|  EMEA|        EMEA|TEC-CIS-10001717|     Technology|      Phones|Cisco Smart Phone...| 2616.96|       4|        0|    1151.4|       832.41|      Critical|\n",
      "|  4132| MX-2012-130015|13-11-2012|13-11-2012|      Same Day|   VF-21715|  Vicky Freymann|Home Office|       Toledo|         Parana|       Brazil|       null| LATAM|       South| FUR-CH-10002033|      Furniture|      Chairs|Harbour Creations...|  2221.8|       7|        0|    622.02|       810.25|      Critical|\n",
      "| 27704|  IN-2013-73951|06-06-2013|08-06-2013|  Second Class|   PF-19120|    Peter Fuller|   Consumer|   Mudanjiang|   Heilongjiang|        China|       null|  APAC|  North Asia| OFF-AP-10003500|Office Supplies|  Appliances|KitchenAid Microw...| 3701.52|      12|        0|   1036.08|       804.54|      Critical|\n",
      "| 13779|ES-2014-5099955|31-07-2014|03-08-2014|  Second Class|   BP-11185|    Ben Peterman|  Corporate|        Paris|  Ile-de-France|       France|       null|    EU|     Central| OFF-AP-10000423|Office Supplies|  Appliances|Breville Refriger...|1869.588|       4|      0.1|   186.948|       801.66|      Critical|\n",
      "| 36178| CA-2014-143567|03-11-2014|06-11-2014|  Second Class|   TB-21175|   Thomas Boland|  Corporate|    Henderson|       Kentucky|United States|      42420|    US|       South| TEC-AC-10004145|     Technology| Accessories|Logitech diNovo E...| 2249.91|       9|        0|  517.4793|        780.7|      Critical|\n",
      "| 12069|ES-2014-1651774|08-09-2014|14-09-2014|Standard Class|   PJ-18835|   Patrick Jones|  Corporate|        Prato|        Tuscany|        Italy|       null|    EU|       South| OFF-AP-10004512|Office Supplies|  Appliances|   Hoover Stove, Red| 7958.58|      14|        0|   3979.08|       778.32|           Low|\n",
      "| 22096|  IN-2014-11763|31-01-2014|01-02-2014|   First Class|   JS-15685|        Jim Sink|  Corporate|   Townsville|     Queensland|    Australia|       null|  APAC|     Oceania| TEC-CO-10000865|     Technology|     Copiers|Brother Fax Machi...|2565.594|       9|      0.1|    28.404|       766.93|      Critical|\n",
      "| 49463|   TZ-2014-8190|05-12-2014|07-12-2014|  Second Class|    RH-9555| Ritsa Hightower|   Consumer|       Uvinza|         Kigoma|     Tanzania|       null|Africa|      Africa|OFF-KIT-10004058|Office Supplies|  Appliances|KitchenAid Stove,...| 3409.74|       6|        0|    818.28|       763.38|          High|\n",
      "+------+---------------+----------+----------+--------------+-----------+----------------+-----------+-------------+---------------+-------------+-----------+------+------------+----------------+---------------+------------+--------------------+--------+--------+---------+----------+-------------+--------------+\n",
      "only showing top 20 rows\n",
      "\n"
     ]
    }
   ],
   "source": [
    "df_pyspark.na.drop(how = \"all\").show() #we can use how = any, by defalut how = any"
   ]
  },
  {
   "cell_type": "code",
   "execution_count": 46,
   "id": "585d5b38",
   "metadata": {},
   "outputs": [
    {
     "name": "stdout",
     "output_type": "stream",
     "text": [
      "+------+---------------+----------+----------+--------------+-----------+----------------+-----------+-------------+---------------+-------------+-----------+------+------------+----------------+---------------+------------+--------------------+--------+--------+---------+----------+-------------+--------------+\n",
      "|Row ID|       Order ID|Order Date| Ship Date|     Ship Mode|Customer ID|   Customer Name|    Segment|         City|          State|      Country|Postal Code|Market|      Region|      Product ID|       Category|Sub-Category|        Product Name|   Sales|Quantity|Discounts|    Profit|Shipping Cost|Order Priority|\n",
      "+------+---------------+----------+----------+--------------+-----------+----------------+-----------+-------------+---------------+-------------+-----------+------+------------+----------------+---------------+------------+--------------------+--------+--------+---------+----------+-------------+--------------+\n",
      "| 32298| CA-2012-124891|31-07-2012|31-07-2012|      Same Day|   RH-19495|     Rick Hansen|   Consumer|New York City|       New York|United States|      10024|    US|        East| TEC-AC-10003033|     Technology| Accessories|Plantronics CS510...| 2309.65|       7|        0|  762.1845|       933.57|      Critical|\n",
      "| 26341|  IN-2013-77878|05-02-2013|07-02-2013|  Second Class|   JR-16210|   Justin Ritter|  Corporate|   Wollongong|New South Wales|    Australia|       null|  APAC|     Oceania| FUR-CH-10003950|      Furniture|      Chairs|Novimex Executive...|3709.395|       9|      0.1|  -288.765|       923.63|      Critical|\n",
      "| 25330|  IN-2013-71249|17-10-2013|18-10-2013|   First Class|   CR-12730|    Craig Reiter|   Consumer|     Brisbane|     Queensland|    Australia|       null|  APAC|     Oceania| TEC-PH-10004664|     Technology|      Phones|Nokia Smart Phone...|5175.171|       9|      0.1|   919.971|       915.49|        Medium|\n",
      "| 13524|ES-2013-1579342|28-01-2013|30-01-2013|   First Class|   KM-16375|Katherine Murray|Home Office|       Berlin|         Berlin|      Germany|       null|    EU|     Central| TEC-PH-10004583|     Technology|      Phones|Motorola Smart Ph...| 2892.51|       5|      0.1|    -96.54|       910.16|        Medium|\n",
      "| 47221|   SG-2013-4320|05-11-2013|06-11-2013|      Same Day|    RH-9495|     Rick Hansen|   Consumer|        Dakar|          Dakar|      Senegal|       null|Africa|      Africa|TEC-SHA-10000501|     Technology|     Copiers|Sharp Wireless Fa...| 2832.96|       8|        0|    311.52|       903.04|      Critical|\n",
      "| 22732|  IN-2013-42360|28-06-2013|01-07-2013|  Second Class|   JM-15655|     Jim Mitchum|  Corporate|       Sydney|New South Wales|    Australia|       null|  APAC|     Oceania| TEC-PH-10000030|     Technology|      Phones|Samsung Smart Pho...|2862.675|       5|      0.1|   763.275|       897.35|      Critical|\n",
      "| 30570|  IN-2011-81826|07-11-2011|09-11-2011|   First Class|   TS-21340|   Toby Swindell|   Consumer|      Porirua|     Wellington|  New Zealand|       null|  APAC|     Oceania| FUR-CH-10004050|      Furniture|      Chairs|Novimex Executive...| 1822.08|       4|        0|    564.84|       894.77|      Critical|\n",
      "| 31192|  IN-2012-86369|14-04-2012|18-04-2012|Standard Class|   MB-18085|      Mick Brown|   Consumer|     Hamilton|        Waikato|  New Zealand|       null|  APAC|     Oceania| FUR-TA-10002958|      Furniture|      Tables|Chromcraft Confer...| 5244.84|       6|        0|    996.48|       878.38|          High|\n",
      "| 40155| CA-2014-135909|14-10-2014|21-10-2014|Standard Class|   JW-15220|       Jane Waco|  Corporate|   Sacramento|     California|United States|      95823|    US|        West| OFF-BI-10003527|Office Supplies|     Binders|Fellowes PB500 El...| 5083.96|       5|      0.2|  1906.485|       867.69|           Low|\n",
      "| 40936| CA-2012-116638|28-01-2012|31-01-2012|  Second Class|   JH-15985|     Joseph Holt|   Consumer|      Concord| North Carolina|United States|      28027|    US|       South| FUR-TA-10000198|      Furniture|      Tables|Chromcraft Bull-N...|4297.644|      13|      0.4|-1862.3124|       865.74|      Critical|\n",
      "| 34577| CA-2011-102988|05-04-2011|09-04-2011|  Second Class|   GM-14695|    Greg Maxwell|  Corporate|   Alexandria|       Virginia|United States|      22304|    US|       South| OFF-SU-10002881|Office Supplies|    Supplies|Martin Yale Chadl...| 4164.05|       5|        0|    83.281|       846.54|          High|\n",
      "| 28879|  ID-2012-28402|19-04-2012|22-04-2012|   First Class|   AJ-10780|  Anthony Jacobs|  Corporate|        Kabul|          Kabul|  Afghanistan|       null|  APAC|Central Asia| FUR-TA-10001889|      Furniture|      Tables|Bevis Conference ...| 4626.15|       5|        0|    647.55|       835.57|          High|\n",
      "| 45794|   SA-2011-1830|27-12-2011|29-12-2011|  Second Class|    MM-7260| Magdelene Morse|   Consumer|        Jizan|          Jizan| Saudi Arabia|       null|  EMEA|        EMEA|TEC-CIS-10001717|     Technology|      Phones|Cisco Smart Phone...| 2616.96|       4|        0|    1151.4|       832.41|      Critical|\n",
      "|  4132| MX-2012-130015|13-11-2012|13-11-2012|      Same Day|   VF-21715|  Vicky Freymann|Home Office|       Toledo|         Parana|       Brazil|       null| LATAM|       South| FUR-CH-10002033|      Furniture|      Chairs|Harbour Creations...|  2221.8|       7|        0|    622.02|       810.25|      Critical|\n",
      "| 27704|  IN-2013-73951|06-06-2013|08-06-2013|  Second Class|   PF-19120|    Peter Fuller|   Consumer|   Mudanjiang|   Heilongjiang|        China|       null|  APAC|  North Asia| OFF-AP-10003500|Office Supplies|  Appliances|KitchenAid Microw...| 3701.52|      12|        0|   1036.08|       804.54|      Critical|\n",
      "| 13779|ES-2014-5099955|31-07-2014|03-08-2014|  Second Class|   BP-11185|    Ben Peterman|  Corporate|        Paris|  Ile-de-France|       France|       null|    EU|     Central| OFF-AP-10000423|Office Supplies|  Appliances|Breville Refriger...|1869.588|       4|      0.1|   186.948|       801.66|      Critical|\n",
      "| 36178| CA-2014-143567|03-11-2014|06-11-2014|  Second Class|   TB-21175|   Thomas Boland|  Corporate|    Henderson|       Kentucky|United States|      42420|    US|       South| TEC-AC-10004145|     Technology| Accessories|Logitech diNovo E...| 2249.91|       9|        0|  517.4793|        780.7|      Critical|\n",
      "| 12069|ES-2014-1651774|08-09-2014|14-09-2014|Standard Class|   PJ-18835|   Patrick Jones|  Corporate|        Prato|        Tuscany|        Italy|       null|    EU|       South| OFF-AP-10004512|Office Supplies|  Appliances|   Hoover Stove, Red| 7958.58|      14|        0|   3979.08|       778.32|           Low|\n",
      "| 22096|  IN-2014-11763|31-01-2014|01-02-2014|   First Class|   JS-15685|        Jim Sink|  Corporate|   Townsville|     Queensland|    Australia|       null|  APAC|     Oceania| TEC-CO-10000865|     Technology|     Copiers|Brother Fax Machi...|2565.594|       9|      0.1|    28.404|       766.93|      Critical|\n",
      "| 49463|   TZ-2014-8190|05-12-2014|07-12-2014|  Second Class|    RH-9555| Ritsa Hightower|   Consumer|       Uvinza|         Kigoma|     Tanzania|       null|Africa|      Africa|OFF-KIT-10004058|Office Supplies|  Appliances|KitchenAid Stove,...| 3409.74|       6|        0|    818.28|       763.38|          High|\n",
      "+------+---------------+----------+----------+--------------+-----------+----------------+-----------+-------------+---------------+-------------+-----------+------+------------+----------------+---------------+------------+--------------------+--------+--------+---------+----------+-------------+--------------+\n",
      "only showing top 20 rows\n",
      "\n"
     ]
    }
   ],
   "source": [
    "#threshold\n",
    "df_pyspark.na.drop(how = \"any\", thresh =2).show() #in this case all the rows with atleast 2 non null values will be deleted"
   ]
  },
  {
   "cell_type": "code",
   "execution_count": 48,
   "id": "2fce8186",
   "metadata": {},
   "outputs": [
    {
     "name": "stdout",
     "output_type": "stream",
     "text": [
      "+------+---------------+----------+----------+--------------+-----------+----------------+-----------+-------------+---------------+-------------+-----------+------+------------+----------------+---------------+------------+--------------------+--------+--------+---------+----------+-------------+--------------+\n",
      "|Row ID|       Order ID|Order Date| Ship Date|     Ship Mode|Customer ID|   Customer Name|    Segment|         City|          State|      Country|Postal Code|Market|      Region|      Product ID|       Category|Sub-Category|        Product Name|   Sales|Quantity|Discounts|    Profit|Shipping Cost|Order Priority|\n",
      "+------+---------------+----------+----------+--------------+-----------+----------------+-----------+-------------+---------------+-------------+-----------+------+------------+----------------+---------------+------------+--------------------+--------+--------+---------+----------+-------------+--------------+\n",
      "| 32298| CA-2012-124891|31-07-2012|31-07-2012|      Same Day|   RH-19495|     Rick Hansen|   Consumer|New York City|       New York|United States|      10024|    US|        East| TEC-AC-10003033|     Technology| Accessories|Plantronics CS510...| 2309.65|       7|        0|  762.1845|       933.57|      Critical|\n",
      "| 26341|  IN-2013-77878|05-02-2013|07-02-2013|  Second Class|   JR-16210|   Justin Ritter|  Corporate|   Wollongong|New South Wales|    Australia|       null|  APAC|     Oceania| FUR-CH-10003950|      Furniture|      Chairs|Novimex Executive...|3709.395|       9|      0.1|  -288.765|       923.63|      Critical|\n",
      "| 25330|  IN-2013-71249|17-10-2013|18-10-2013|   First Class|   CR-12730|    Craig Reiter|   Consumer|     Brisbane|     Queensland|    Australia|       null|  APAC|     Oceania| TEC-PH-10004664|     Technology|      Phones|Nokia Smart Phone...|5175.171|       9|      0.1|   919.971|       915.49|        Medium|\n",
      "| 13524|ES-2013-1579342|28-01-2013|30-01-2013|   First Class|   KM-16375|Katherine Murray|Home Office|       Berlin|         Berlin|      Germany|       null|    EU|     Central| TEC-PH-10004583|     Technology|      Phones|Motorola Smart Ph...| 2892.51|       5|      0.1|    -96.54|       910.16|        Medium|\n",
      "| 47221|   SG-2013-4320|05-11-2013|06-11-2013|      Same Day|    RH-9495|     Rick Hansen|   Consumer|        Dakar|          Dakar|      Senegal|       null|Africa|      Africa|TEC-SHA-10000501|     Technology|     Copiers|Sharp Wireless Fa...| 2832.96|       8|        0|    311.52|       903.04|      Critical|\n",
      "| 22732|  IN-2013-42360|28-06-2013|01-07-2013|  Second Class|   JM-15655|     Jim Mitchum|  Corporate|       Sydney|New South Wales|    Australia|       null|  APAC|     Oceania| TEC-PH-10000030|     Technology|      Phones|Samsung Smart Pho...|2862.675|       5|      0.1|   763.275|       897.35|      Critical|\n",
      "| 30570|  IN-2011-81826|07-11-2011|09-11-2011|   First Class|   TS-21340|   Toby Swindell|   Consumer|      Porirua|     Wellington|  New Zealand|       null|  APAC|     Oceania| FUR-CH-10004050|      Furniture|      Chairs|Novimex Executive...| 1822.08|       4|        0|    564.84|       894.77|      Critical|\n",
      "| 31192|  IN-2012-86369|14-04-2012|18-04-2012|Standard Class|   MB-18085|      Mick Brown|   Consumer|     Hamilton|        Waikato|  New Zealand|       null|  APAC|     Oceania| FUR-TA-10002958|      Furniture|      Tables|Chromcraft Confer...| 5244.84|       6|        0|    996.48|       878.38|          High|\n",
      "| 40155| CA-2014-135909|14-10-2014|21-10-2014|Standard Class|   JW-15220|       Jane Waco|  Corporate|   Sacramento|     California|United States|      95823|    US|        West| OFF-BI-10003527|Office Supplies|     Binders|Fellowes PB500 El...| 5083.96|       5|      0.2|  1906.485|       867.69|           Low|\n",
      "| 40936| CA-2012-116638|28-01-2012|31-01-2012|  Second Class|   JH-15985|     Joseph Holt|   Consumer|      Concord| North Carolina|United States|      28027|    US|       South| FUR-TA-10000198|      Furniture|      Tables|Chromcraft Bull-N...|4297.644|      13|      0.4|-1862.3124|       865.74|      Critical|\n",
      "| 34577| CA-2011-102988|05-04-2011|09-04-2011|  Second Class|   GM-14695|    Greg Maxwell|  Corporate|   Alexandria|       Virginia|United States|      22304|    US|       South| OFF-SU-10002881|Office Supplies|    Supplies|Martin Yale Chadl...| 4164.05|       5|        0|    83.281|       846.54|          High|\n",
      "| 28879|  ID-2012-28402|19-04-2012|22-04-2012|   First Class|   AJ-10780|  Anthony Jacobs|  Corporate|        Kabul|          Kabul|  Afghanistan|       null|  APAC|Central Asia| FUR-TA-10001889|      Furniture|      Tables|Bevis Conference ...| 4626.15|       5|        0|    647.55|       835.57|          High|\n",
      "| 45794|   SA-2011-1830|27-12-2011|29-12-2011|  Second Class|    MM-7260| Magdelene Morse|   Consumer|        Jizan|          Jizan| Saudi Arabia|       null|  EMEA|        EMEA|TEC-CIS-10001717|     Technology|      Phones|Cisco Smart Phone...| 2616.96|       4|        0|    1151.4|       832.41|      Critical|\n",
      "|  4132| MX-2012-130015|13-11-2012|13-11-2012|      Same Day|   VF-21715|  Vicky Freymann|Home Office|       Toledo|         Parana|       Brazil|       null| LATAM|       South| FUR-CH-10002033|      Furniture|      Chairs|Harbour Creations...|  2221.8|       7|        0|    622.02|       810.25|      Critical|\n",
      "| 27704|  IN-2013-73951|06-06-2013|08-06-2013|  Second Class|   PF-19120|    Peter Fuller|   Consumer|   Mudanjiang|   Heilongjiang|        China|       null|  APAC|  North Asia| OFF-AP-10003500|Office Supplies|  Appliances|KitchenAid Microw...| 3701.52|      12|        0|   1036.08|       804.54|      Critical|\n",
      "| 13779|ES-2014-5099955|31-07-2014|03-08-2014|  Second Class|   BP-11185|    Ben Peterman|  Corporate|        Paris|  Ile-de-France|       France|       null|    EU|     Central| OFF-AP-10000423|Office Supplies|  Appliances|Breville Refriger...|1869.588|       4|      0.1|   186.948|       801.66|      Critical|\n",
      "| 36178| CA-2014-143567|03-11-2014|06-11-2014|  Second Class|   TB-21175|   Thomas Boland|  Corporate|    Henderson|       Kentucky|United States|      42420|    US|       South| TEC-AC-10004145|     Technology| Accessories|Logitech diNovo E...| 2249.91|       9|        0|  517.4793|        780.7|      Critical|\n",
      "| 12069|ES-2014-1651774|08-09-2014|14-09-2014|Standard Class|   PJ-18835|   Patrick Jones|  Corporate|        Prato|        Tuscany|        Italy|       null|    EU|       South| OFF-AP-10004512|Office Supplies|  Appliances|   Hoover Stove, Red| 7958.58|      14|        0|   3979.08|       778.32|           Low|\n",
      "| 22096|  IN-2014-11763|31-01-2014|01-02-2014|   First Class|   JS-15685|        Jim Sink|  Corporate|   Townsville|     Queensland|    Australia|       null|  APAC|     Oceania| TEC-CO-10000865|     Technology|     Copiers|Brother Fax Machi...|2565.594|       9|      0.1|    28.404|       766.93|      Critical|\n",
      "| 49463|   TZ-2014-8190|05-12-2014|07-12-2014|  Second Class|    RH-9555| Ritsa Hightower|   Consumer|       Uvinza|         Kigoma|     Tanzania|       null|Africa|      Africa|OFF-KIT-10004058|Office Supplies|  Appliances|KitchenAid Stove,...| 3409.74|       6|        0|    818.28|       763.38|          High|\n",
      "+------+---------------+----------+----------+--------------+-----------+----------------+-----------+-------------+---------------+-------------+-----------+------+------------+----------------+---------------+------------+--------------------+--------+--------+---------+----------+-------------+--------------+\n",
      "only showing top 20 rows\n",
      "\n"
     ]
    }
   ],
   "source": [
    "#subset\n",
    "df_pyspark.na.drop(how = \"any\", subset=[\"Sales\"]).show() #will delete null only from subset column sales"
   ]
  },
  {
   "cell_type": "code",
   "execution_count": 52,
   "id": "2b30c7e7",
   "metadata": {},
   "outputs": [
    {
     "name": "stdout",
     "output_type": "stream",
     "text": [
      "+------+---------------+----------+----------+--------------+-----------+----------------+-----------+-------------+---------------+-------------+-----------+------+------------+----------------+---------------+------------+--------------------+--------+--------+---------+----------+-------------+--------------+\n",
      "|Row ID|       Order ID|Order Date| Ship Date|     Ship Mode|Customer ID|   Customer Name|    Segment|         City|          State|      Country|Postal Code|Market|      Region|      Product ID|       Category|Sub-Category|        Product Name|   Sales|Quantity|Discounts|    Profit|Shipping Cost|Order Priority|\n",
      "+------+---------------+----------+----------+--------------+-----------+----------------+-----------+-------------+---------------+-------------+-----------+------+------------+----------------+---------------+------------+--------------------+--------+--------+---------+----------+-------------+--------------+\n",
      "| 32298| CA-2012-124891|31-07-2012|31-07-2012|      Same Day|   RH-19495|     Rick Hansen|   Consumer|New York City|       New York|United States|      10024|    US|        East| TEC-AC-10003033|     Technology| Accessories|Plantronics CS510...| 2309.65|       7|        0|  762.1845|       933.57|      Critical|\n",
      "| 26341|  IN-2013-77878|05-02-2013|07-02-2013|  Second Class|   JR-16210|   Justin Ritter|  Corporate|   Wollongong|New South Wales|    Australia|       null|  APAC|     Oceania| FUR-CH-10003950|      Furniture|      Chairs|Novimex Executive...|3709.395|       9|      0.1|  -288.765|       923.63|      Critical|\n",
      "| 25330|  IN-2013-71249|17-10-2013|18-10-2013|   First Class|   CR-12730|    Craig Reiter|   Consumer|     Brisbane|     Queensland|    Australia|       null|  APAC|     Oceania| TEC-PH-10004664|     Technology|      Phones|Nokia Smart Phone...|5175.171|       9|      0.1|   919.971|       915.49|        Medium|\n",
      "| 13524|ES-2013-1579342|28-01-2013|30-01-2013|   First Class|   KM-16375|Katherine Murray|Home Office|       Berlin|         Berlin|      Germany|       null|    EU|     Central| TEC-PH-10004583|     Technology|      Phones|Motorola Smart Ph...| 2892.51|       5|      0.1|    -96.54|       910.16|        Medium|\n",
      "| 47221|   SG-2013-4320|05-11-2013|06-11-2013|      Same Day|    RH-9495|     Rick Hansen|   Consumer|        Dakar|          Dakar|      Senegal|       null|Africa|      Africa|TEC-SHA-10000501|     Technology|     Copiers|Sharp Wireless Fa...| 2832.96|       8|        0|    311.52|       903.04|      Critical|\n",
      "| 22732|  IN-2013-42360|28-06-2013|01-07-2013|  Second Class|   JM-15655|     Jim Mitchum|  Corporate|       Sydney|New South Wales|    Australia|       null|  APAC|     Oceania| TEC-PH-10000030|     Technology|      Phones|Samsung Smart Pho...|2862.675|       5|      0.1|   763.275|       897.35|      Critical|\n",
      "| 30570|  IN-2011-81826|07-11-2011|09-11-2011|   First Class|   TS-21340|   Toby Swindell|   Consumer|      Porirua|     Wellington|  New Zealand|       null|  APAC|     Oceania| FUR-CH-10004050|      Furniture|      Chairs|Novimex Executive...| 1822.08|       4|        0|    564.84|       894.77|      Critical|\n",
      "| 31192|  IN-2012-86369|14-04-2012|18-04-2012|Standard Class|   MB-18085|      Mick Brown|   Consumer|     Hamilton|        Waikato|  New Zealand|       null|  APAC|     Oceania| FUR-TA-10002958|      Furniture|      Tables|Chromcraft Confer...| 5244.84|       6|        0|    996.48|       878.38|          High|\n",
      "| 40155| CA-2014-135909|14-10-2014|21-10-2014|Standard Class|   JW-15220|       Jane Waco|  Corporate|   Sacramento|     California|United States|      95823|    US|        West| OFF-BI-10003527|Office Supplies|     Binders|Fellowes PB500 El...| 5083.96|       5|      0.2|  1906.485|       867.69|           Low|\n",
      "| 40936| CA-2012-116638|28-01-2012|31-01-2012|  Second Class|   JH-15985|     Joseph Holt|   Consumer|      Concord| North Carolina|United States|      28027|    US|       South| FUR-TA-10000198|      Furniture|      Tables|Chromcraft Bull-N...|4297.644|      13|      0.4|-1862.3124|       865.74|      Critical|\n",
      "| 34577| CA-2011-102988|05-04-2011|09-04-2011|  Second Class|   GM-14695|    Greg Maxwell|  Corporate|   Alexandria|       Virginia|United States|      22304|    US|       South| OFF-SU-10002881|Office Supplies|    Supplies|Martin Yale Chadl...| 4164.05|       5|        0|    83.281|       846.54|          High|\n",
      "| 28879|  ID-2012-28402|19-04-2012|22-04-2012|   First Class|   AJ-10780|  Anthony Jacobs|  Corporate|        Kabul|          Kabul|  Afghanistan|       null|  APAC|Central Asia| FUR-TA-10001889|      Furniture|      Tables|Bevis Conference ...| 4626.15|       5|        0|    647.55|       835.57|          High|\n",
      "| 45794|   SA-2011-1830|27-12-2011|29-12-2011|  Second Class|    MM-7260| Magdelene Morse|   Consumer|        Jizan|          Jizan| Saudi Arabia|       null|  EMEA|        EMEA|TEC-CIS-10001717|     Technology|      Phones|Cisco Smart Phone...| 2616.96|       4|        0|    1151.4|       832.41|      Critical|\n",
      "|  4132| MX-2012-130015|13-11-2012|13-11-2012|      Same Day|   VF-21715|  Vicky Freymann|Home Office|       Toledo|         Parana|       Brazil|       null| LATAM|       South| FUR-CH-10002033|      Furniture|      Chairs|Harbour Creations...|  2221.8|       7|        0|    622.02|       810.25|      Critical|\n",
      "| 27704|  IN-2013-73951|06-06-2013|08-06-2013|  Second Class|   PF-19120|    Peter Fuller|   Consumer|   Mudanjiang|   Heilongjiang|        China|       null|  APAC|  North Asia| OFF-AP-10003500|Office Supplies|  Appliances|KitchenAid Microw...| 3701.52|      12|        0|   1036.08|       804.54|      Critical|\n",
      "| 13779|ES-2014-5099955|31-07-2014|03-08-2014|  Second Class|   BP-11185|    Ben Peterman|  Corporate|        Paris|  Ile-de-France|       France|       null|    EU|     Central| OFF-AP-10000423|Office Supplies|  Appliances|Breville Refriger...|1869.588|       4|      0.1|   186.948|       801.66|      Critical|\n",
      "| 36178| CA-2014-143567|03-11-2014|06-11-2014|  Second Class|   TB-21175|   Thomas Boland|  Corporate|    Henderson|       Kentucky|United States|      42420|    US|       South| TEC-AC-10004145|     Technology| Accessories|Logitech diNovo E...| 2249.91|       9|        0|  517.4793|        780.7|      Critical|\n",
      "| 12069|ES-2014-1651774|08-09-2014|14-09-2014|Standard Class|   PJ-18835|   Patrick Jones|  Corporate|        Prato|        Tuscany|        Italy|       null|    EU|       South| OFF-AP-10004512|Office Supplies|  Appliances|   Hoover Stove, Red| 7958.58|      14|        0|   3979.08|       778.32|           Low|\n",
      "| 22096|  IN-2014-11763|31-01-2014|01-02-2014|   First Class|   JS-15685|        Jim Sink|  Corporate|   Townsville|     Queensland|    Australia|       null|  APAC|     Oceania| TEC-CO-10000865|     Technology|     Copiers|Brother Fax Machi...|2565.594|       9|      0.1|    28.404|       766.93|      Critical|\n",
      "| 49463|   TZ-2014-8190|05-12-2014|07-12-2014|  Second Class|    RH-9555| Ritsa Hightower|   Consumer|       Uvinza|         Kigoma|     Tanzania|       null|Africa|      Africa|OFF-KIT-10004058|Office Supplies|  Appliances|KitchenAid Stove,...| 3409.74|       6|        0|    818.28|       763.38|          High|\n",
      "+------+---------------+----------+----------+--------------+-----------+----------------+-----------+-------------+---------------+-------------+-----------+------+------------+----------------+---------------+------------+--------------------+--------+--------+---------+----------+-------------+--------------+\n",
      "only showing top 20 rows\n",
      "\n"
     ]
    }
   ],
   "source": [
    "#fill missing value\n",
    "df_pyspark.na.fill(0, [\"Sales\", \"Profit\"]).show() # this will fill na of subset sales and profit with 0"
   ]
  },
  {
   "cell_type": "code",
   "execution_count": null,
   "id": "e01944dc",
   "metadata": {},
   "outputs": [],
   "source": []
  },
  {
   "cell_type": "code",
   "execution_count": 67,
   "id": "cd038aaf",
   "metadata": {},
   "outputs": [],
   "source": [
    "#fill na with mean or median\n",
    "from pyspark.ml.feature import Imputer\n",
    "\n",
    "imputer = Imputer(\n",
    "    inputCols=['Shipping Cost', 'Profit'], \n",
    "    outputCols=[\"{}_imputed\".format(c) for c in ['Shipping Cost', 'Profit']]\n",
    "    ).setStrategy(\"median\")"
   ]
  },
  {
   "cell_type": "code",
   "execution_count": 75,
   "id": "8d94d607",
   "metadata": {},
   "outputs": [],
   "source": [
    "# Add imputation cols to df\n",
    "df2 = imputer.fit(df_pyspark).transform(df_pyspark)"
   ]
  },
  {
   "cell_type": "code",
   "execution_count": 76,
   "id": "710ce153",
   "metadata": {},
   "outputs": [
    {
     "data": {
      "text/plain": [
       "['Row ID',\n",
       " 'Order ID',\n",
       " 'Order Date',\n",
       " 'Ship Date',\n",
       " 'Ship Mode',\n",
       " 'Customer ID',\n",
       " 'Customer Name',\n",
       " 'Segment',\n",
       " 'City',\n",
       " 'State',\n",
       " 'Country',\n",
       " 'Postal Code',\n",
       " 'Market',\n",
       " 'Region',\n",
       " 'Product ID',\n",
       " 'Category',\n",
       " 'Sub-Category',\n",
       " 'Product Name',\n",
       " 'Sales',\n",
       " 'Quantity',\n",
       " 'Discount',\n",
       " 'Profit',\n",
       " 'Shipping Cost',\n",
       " 'Order Priority',\n",
       " 'Shipping Cost_imputed',\n",
       " 'Profit_imputed']"
      ]
     },
     "execution_count": 76,
     "metadata": {},
     "output_type": "execute_result"
    }
   ],
   "source": [
    "df2.columns"
   ]
  },
  {
   "cell_type": "code",
   "execution_count": 77,
   "id": "0254bc57",
   "metadata": {},
   "outputs": [],
   "source": [
    "#filter operations"
   ]
  },
  {
   "cell_type": "code",
   "execution_count": 82,
   "id": "a5043afb",
   "metadata": {},
   "outputs": [
    {
     "name": "stdout",
     "output_type": "stream",
     "text": [
      "+------+--------------+----------+----------+--------------+-----------+-------------+---------+---------+----------+-------------+-----------+------+-------+---------------+----------+------------+--------------------+--------+--------+--------+---------+-------------+--------------+---------------------+--------------+\n",
      "|Row ID|      Order ID|Order Date| Ship Date|     Ship Mode|Customer ID|Customer Name|  Segment|     City|     State|      Country|Postal Code|Market| Region|     Product ID|  Category|Sub-Category|        Product Name|   Sales|Quantity|Discount|   Profit|Shipping Cost|Order Priority|Shipping Cost_imputed|Profit_imputed|\n",
      "+------+--------------+----------+----------+--------------+-----------+-------------+---------+---------+----------+-------------+-----------+------+-------+---------------+----------+------------+--------------------+--------+--------+--------+---------+-------------+--------------+---------------------+--------------+\n",
      "| 35487|CA-2014-166709|18-11-2014|23-11-2014|Standard Class|   HL-15040| Hunter Lopez| Consumer|   Newark|  Delaware|United States|      19711|    US|   East|TEC-CO-10004722|Technology|     Copiers|Canon imageCLASS ...|10499.97|       3|       0|5039.9856|       363.19|        Medium|               363.19|     5039.9856|\n",
      "| 38123|CA-2013-118689|03-10-2013|10-10-2013|Standard Class|   TC-20980| Tamara Chand|Corporate|Lafayette|   Indiana|United States|      47905|    US|Central|TEC-CO-10004722|Technology|     Copiers|Canon imageCLASS ...|17499.95|       5|       0| 8399.976|       349.07|        Medium|               349.07|      8399.976|\n",
      "| 39450|CA-2014-140151|24-03-2014|26-03-2014|   First Class|   RB-19360| Raymond Buch| Consumer|  Seattle|Washington|United States|      98115|    US|   West|TEC-CO-10004722|Technology|     Copiers|Canon imageCLASS ...|13999.96|       4|       0|6719.9808|         20.0|        Medium|                 20.0|     6719.9808|\n",
      "+------+--------------+----------+----------+--------------+-----------+-------------+---------+---------+----------+-------------+-----------+------+-------+---------------+----------+------------+--------------------+--------+--------+--------+---------+-------------+--------------+---------------------+--------------+\n",
      "\n"
     ]
    }
   ],
   "source": [
    "df2.filter(\"Profit>5000\").show()"
   ]
  },
  {
   "cell_type": "code",
   "execution_count": 83,
   "id": "7f0b0e4a",
   "metadata": {},
   "outputs": [
    {
     "name": "stdout",
     "output_type": "stream",
     "text": [
      "+--------------+-------------+--------+---------+\n",
      "|      Order ID|Customer Name|   Sales|   Profit|\n",
      "+--------------+-------------+--------+---------+\n",
      "|CA-2014-166709| Hunter Lopez|10499.97|5039.9856|\n",
      "|CA-2013-118689| Tamara Chand|17499.95| 8399.976|\n",
      "|CA-2014-140151| Raymond Buch|13999.96|6719.9808|\n",
      "+--------------+-------------+--------+---------+\n",
      "\n"
     ]
    }
   ],
   "source": [
    "df2.filter(\"Profit>5000\").select([\"Order ID\",\"Customer Name\",\"Sales\", \"Profit\"]).show()"
   ]
  },
  {
   "cell_type": "code",
   "execution_count": 88,
   "id": "ca9837b3",
   "metadata": {},
   "outputs": [
    {
     "name": "stdout",
     "output_type": "stream",
     "text": [
      "+--------------+-------------+--------+---------+\n",
      "|      Order ID|Customer Name|   Sales|   Profit|\n",
      "+--------------+-------------+--------+---------+\n",
      "|CA-2014-166709| Hunter Lopez|10499.97|5039.9856|\n",
      "|CA-2014-140151| Raymond Buch|13999.96|6719.9808|\n",
      "+--------------+-------------+--------+---------+\n",
      "\n"
     ]
    }
   ],
   "source": [
    "df2.filter((df2[\"Profit\"] > 5000) & \n",
    "            (df2[\"Profit\"] < 7000)).select([\"Order ID\",\"Customer Name\",\"Sales\", \"Profit\"]).show()"
   ]
  },
  {
   "cell_type": "code",
   "execution_count": 89,
   "id": "cfe77284",
   "metadata": {},
   "outputs": [
    {
     "name": "stdout",
     "output_type": "stream",
     "text": [
      "+---------------+----------------+--------+----------+\n",
      "|       Order ID|   Customer Name|   Sales|    Profit|\n",
      "+---------------+----------------+--------+----------+\n",
      "| CA-2012-124891|     Rick Hansen| 2309.65|  762.1845|\n",
      "|  IN-2013-77878|   Justin Ritter|3709.395|  -288.765|\n",
      "|  IN-2013-71249|    Craig Reiter|5175.171|   919.971|\n",
      "|ES-2013-1579342|Katherine Murray| 2892.51|    -96.54|\n",
      "|   SG-2013-4320|     Rick Hansen| 2832.96|    311.52|\n",
      "|  IN-2013-42360|     Jim Mitchum|2862.675|   763.275|\n",
      "|  IN-2011-81826|   Toby Swindell| 1822.08|    564.84|\n",
      "|  IN-2012-86369|      Mick Brown| 5244.84|    996.48|\n",
      "| CA-2014-135909|       Jane Waco| 5083.96|  1906.485|\n",
      "| CA-2012-116638|     Joseph Holt|4297.644|-1862.3124|\n",
      "| CA-2011-102988|    Greg Maxwell| 4164.05|    83.281|\n",
      "|  ID-2012-28402|  Anthony Jacobs| 4626.15|    647.55|\n",
      "|   SA-2011-1830| Magdelene Morse| 2616.96|    1151.4|\n",
      "| MX-2012-130015|  Vicky Freymann|  2221.8|    622.02|\n",
      "|  IN-2013-73951|    Peter Fuller| 3701.52|   1036.08|\n",
      "|ES-2014-5099955|    Ben Peterman|1869.588|   186.948|\n",
      "| CA-2014-143567|   Thomas Boland| 2249.91|  517.4793|\n",
      "|ES-2014-1651774|   Patrick Jones| 7958.58|   3979.08|\n",
      "|  IN-2014-11763|        Jim Sink|2565.594|    28.404|\n",
      "|   TZ-2014-8190| Ritsa Hightower| 3409.74|    818.28|\n",
      "+---------------+----------------+--------+----------+\n",
      "only showing top 20 rows\n",
      "\n"
     ]
    }
   ],
   "source": [
    "df2.filter(~((df2[\"Profit\"] > 5000) & \n",
    "            (df2[\"Profit\"] < 7000))).select([\"Order ID\",\"Customer Name\",\"Sales\", \"Profit\"]).show()"
   ]
  },
  {
   "cell_type": "code",
   "execution_count": 90,
   "id": "2edea760",
   "metadata": {},
   "outputs": [],
   "source": [
    "#groupby and aggregate function"
   ]
  },
  {
   "cell_type": "code",
   "execution_count": 93,
   "id": "a8f65ad4",
   "metadata": {},
   "outputs": [
    {
     "name": "stdout",
     "output_type": "stream",
     "text": [
      "+-----------------+-----------+----------------+-------------------+------------------+--------------------------+-------------------+\n",
      "|    Customer Name|sum(Row ID)|sum(Postal Code)|        sum(Profit)|sum(Shipping Cost)|sum(Shipping Cost_imputed)|sum(Profit_imputed)|\n",
      "+-----------------+-----------+----------------+-------------------+------------------+--------------------------+-------------------+\n",
      "|      Jim Mitchum|    1954590|          808254| 1798.5340600000004|2714.2799999999997|        2714.2799999999997| 1798.5340600000004|\n",
      "|     Jesus Ocampo|    1630524|          489070|  581.5913000000002| 639.4456000000002|         639.4456000000002|  581.5913000000002|\n",
      "|      Joseph Holt|    1985747|         1028423| 386.67820000000006|           2516.52|                   2516.52| 386.67820000000006|\n",
      "|     Ben Peterman|    2058637|         1211579|         1321.20702|2502.7387999999996|        2502.7387999999996|         1321.20702|\n",
      "|  Patrick O'Brill|    2209680|         1032035|  3738.274900000001| 3014.938800000001|         3014.938800000001|  3738.274900000001|\n",
      "|  Ted Butterfield|    1704527|          182239| 1559.2690199999997|1528.0900000000001|        1528.0900000000001| 1559.2690199999997|\n",
      "|     Ruben Ausman|    1791625|          904650|         3320.46868|1536.9800000000002|        1536.9800000000002|         3320.46868|\n",
      "|        Denny Joy|    1240146|          366626| 3255.3961399999994|           2443.43|                   2443.43| 3255.3961399999994|\n",
      "|    Hilary Holden|    1180945|          564660| 2421.9336200000007|1521.2803999999999|        1521.2803999999999| 2421.9336200000007|\n",
      "|   Parhena Norris|    1524951|          476417| 2205.4628200000006|           1389.26|                   1389.26| 2205.4628200000006|\n",
      "| Michelle Ellison|     897129|          501415|  655.2183200000002|           1256.96|                   1256.96|  655.2183200000002|\n",
      "|    Bill Overfelt|    1531726|          665167|  453.7588999999999|          515.5508|                  515.5508|  453.7588999999999|\n",
      "|Brooke Gillingham|    1319338|          296830|  417.3198799999999|           1315.74|                   1315.74|  417.3198799999999|\n",
      "|       Carl Weiss|    1332948|          655654| 3007.3994000000002|1320.9499999999998|        1320.9499999999998| 3007.3994000000002|\n",
      "|    Patrick Jones|    1460376|          672814|  4019.132499999999|            1694.0|                    1694.0|  4019.132499999999|\n",
      "|     Craig Yedwab|    1293278|          808314|           1542.243|1656.3400000000006|        1656.3400000000006|           1542.243|\n",
      "|   Darren Koutras|    1178233|          448274| 1287.9166999999998|1852.6099999999992|        1852.6099999999992| 1287.9166999999998|\n",
      "|  Michael Kennedy|    2048801|          629808|-210.64000000000016|1441.8100000000002|        1441.8100000000002|-210.64000000000016|\n",
      "|    Aaron Hawkins|    1434098|          565428|  2450.929040000001|2289.4100000000003|        2289.4100000000003|  2450.929040000001|\n",
      "|   Roland Schwarz|    1326863|          595538| 3314.8031800000003|2237.5631999999996|        2237.5631999999996| 3314.8031800000003|\n",
      "+-----------------+-----------+----------------+-------------------+------------------+--------------------------+-------------------+\n",
      "only showing top 20 rows\n",
      "\n"
     ]
    }
   ],
   "source": [
    "df2.groupBy(\"Customer Name\").sum().show()"
   ]
  },
  {
   "cell_type": "code",
   "execution_count": 94,
   "id": "e91f3da1",
   "metadata": {},
   "outputs": [
    {
     "name": "stdout",
     "output_type": "stream",
     "text": [
      "+-----------+-----------+----------------+-------------------+------------------+--------------------------+-------------------+\n",
      "|Postal Code|sum(Row ID)|sum(Postal Code)|        sum(Profit)|sum(Shipping Cost)|sum(Shipping Cost_imputed)|sum(Profit_imputed)|\n",
      "+-----------+-----------+----------------+-------------------+------------------+--------------------------+-------------------+\n",
      "|      43302|     512231|          606228|          -517.9122|           369.499|                   369.499|          -517.9122|\n",
      "|      20735|    1044529|          601315|          1274.2421|502.90999999999997|        502.90999999999997|          1274.2421|\n",
      "|      77803|     244519|          466818|-213.71160000000003|             47.84|                     47.84|-213.71160000000003|\n",
      "|      13601|     355201|          136010|           898.2934|          479.7238|                  479.7238|           898.2934|\n",
      "|      80906|     879895|         2022650|          -956.6841|487.62000000000006|        487.62000000000006|          -956.6841|\n",
      "|      93905|     266985|          751240|           270.5181|             83.58|                     83.58|           270.5181|\n",
      "|      60068|     107022|          180204|            -238.45|              59.4|                      59.4|            -238.45|\n",
      "|      48127|     232759|          288762|           140.8905| 79.11999999999999|         79.11999999999999|           140.8905|\n",
      "|      78539|     109900|          235617|            27.8086|             33.28|                     33.28|            27.8086|\n",
      "|      29483|      67779|           58966|              39.55|          162.0932|                  162.0932|              39.55|\n",
      "|      94109|    5140533|        13269369|          4365.8128|2320.6105000000002|        2320.6105000000002|          4365.8128|\n",
      "|      60540|     280616|          484320|          -146.5324|            149.34|                    149.34|          -146.5324|\n",
      "|      11520|     217101|           69120| 107.36179999999999| 58.85999999999999|         58.85999999999999| 107.36179999999999|\n",
      "|      67846|     194807|          339230|            90.6259|             32.97|                     32.97|            90.6259|\n",
      "|       8701|     879363|          208824|          3526.6735|1412.4999999999998|        1412.4999999999998|          3526.6735|\n",
      "|      65203|     390299|          652030|          1053.5015|418.25039999999996|        418.25039999999996|          1053.5015|\n",
      "|      33012|     670746|          594216|          -179.6971|          414.4196|                  414.4196|          -179.6971|\n",
      "|      23434|     362938|          234340| 389.81219999999996|            209.57|                    209.57| 389.81219999999996|\n",
      "|       7109|     340932|           71090| 272.82439999999997|           77.2348|                   77.2348| 272.82439999999997|\n",
      "|      54880|     343737|          493920|           514.0822|             97.26|                     97.26|           514.0822|\n",
      "+-----------+-----------+----------------+-------------------+------------------+--------------------------+-------------------+\n",
      "only showing top 20 rows\n",
      "\n"
     ]
    }
   ],
   "source": [
    "df2.groupBy(\"Postal Code\").sum().show()"
   ]
  },
  {
   "cell_type": "code",
   "execution_count": 95,
   "id": "c09e43e2",
   "metadata": {},
   "outputs": [
    {
     "name": "stdout",
     "output_type": "stream",
     "text": [
      "+-----------+-----+\n",
      "|Postal Code|count|\n",
      "+-----------+-----+\n",
      "|      43302|   14|\n",
      "|      20735|   29|\n",
      "|      77803|    6|\n",
      "|      13601|   10|\n",
      "|      80906|   25|\n",
      "|      93905|    8|\n",
      "|      60068|    3|\n",
      "|      48127|    6|\n",
      "|      78539|    3|\n",
      "|      29483|    2|\n",
      "|      94109|  141|\n",
      "|      60540|    8|\n",
      "|      11520|    6|\n",
      "|      67846|    5|\n",
      "|       8701|   24|\n",
      "|      65203|   10|\n",
      "|      33012|   18|\n",
      "|      23434|   10|\n",
      "|       7109|   10|\n",
      "|      54880|    9|\n",
      "+-----------+-----+\n",
      "only showing top 20 rows\n",
      "\n"
     ]
    }
   ],
   "source": [
    "df2.groupBy(\"Postal Code\").count().show()"
   ]
  },
  {
   "cell_type": "code",
   "execution_count": 99,
   "id": "7385e0ee",
   "metadata": {},
   "outputs": [
    {
     "name": "stdout",
     "output_type": "stream",
     "text": [
      "+------------------+\n",
      "|       sum(Profit)|\n",
      "+------------------+\n",
      "|1466767.8717799915|\n",
      "+------------------+\n",
      "\n"
     ]
    }
   ],
   "source": [
    "df2.agg({'Profit':'sum'}).show()"
   ]
  },
  {
   "cell_type": "code",
   "execution_count": 100,
   "id": "7f222d4b",
   "metadata": {},
   "outputs": [
    {
     "name": "stdout",
     "output_type": "stream",
     "text": [
      "+-----------+-----------+----------------+-----------+------------------+--------------------------+-------------------+\n",
      "|Postal Code|min(Row ID)|min(Postal Code)|min(Profit)|min(Shipping Cost)|min(Shipping Cost_imputed)|min(Profit_imputed)|\n",
      "+-----------+-----------+----------------+-----------+------------------+--------------------------+-------------------+\n",
      "|      43302|      33518|           43302|   -464.697|           -26.541|                   -26.541|           -464.697|\n",
      "|      20735|      32390|           20735|   -47.1798|              0.72|                      0.72|           -47.1798|\n",
      "|      77803|      40520|           77803|   -143.431|              0.08|                      0.08|           -143.431|\n",
      "|      13601|      32842|           13601|        0.0|              3.34|                      3.34|                0.0|\n",
      "|      80906|      31590|           80906|   -786.744|              0.13|                      0.13|           -786.744|\n",
      "|      93905|      32147|           93905|     1.3416|              0.45|                      0.45|             1.3416|\n",
      "|      60068|      31764|           60068|  -312.0614|             13.08|                     13.08|          -312.0614|\n",
      "|      48127|      34770|           48127|     4.5837|              1.49|                      1.49|             4.5837|\n",
      "|      78539|      35195|           78539|    -3.4122|              0.28|                      0.28|            -3.4122|\n",
      "|      29483|      33889|           29483|        0.0|              4.73|                      4.73|                0.0|\n",
      "|      94109|      31315|           94109|   -20.1362|              0.19|                      0.19|           -20.1362|\n",
      "|      60540|      31338|           60540|  -163.5767|              0.32|                      0.32|          -163.5767|\n",
      "|      11520|      32640|           11520|      6.003|              0.97|                      0.97|              6.003|\n",
      "|      67846|      38667|           67846|      1.728|              0.38|                      0.38|              1.728|\n",
      "|       8701|      31603|            8701|        0.0|               0.5|                       0.5|                0.0|\n",
      "|      65203|      33302|           65203|        0.0|              0.33|                      0.33|                0.0|\n",
      "|      33012|      32021|           33012|    -331.96|              0.33|                      0.33|            -331.96|\n",
      "|      23434|      32970|           23434|     1.8998|              0.47|                      0.47|             1.8998|\n",
      "|       7109|      31595|            7109|        0.0|              0.24|                      0.24|                0.0|\n",
      "|      54880|      35309|           54880|     1.4456|              0.42|                      0.42|             1.4456|\n",
      "+-----------+-----------+----------------+-----------+------------------+--------------------------+-------------------+\n",
      "only showing top 20 rows\n",
      "\n"
     ]
    }
   ],
   "source": [
    "df2.groupBy(\"Postal Code\").min().show()"
   ]
  },
  {
   "cell_type": "code",
   "execution_count": 101,
   "id": "02a1d2e4",
   "metadata": {},
   "outputs": [
    {
     "name": "stdout",
     "output_type": "stream",
     "text": [
      "+-----------+-----------+----------------+-----------+------------------+--------------------------+-------------------+\n",
      "|Postal Code|max(Row ID)|max(Postal Code)|max(Profit)|max(Shipping Cost)|max(Shipping Cost_imputed)|max(Profit_imputed)|\n",
      "+-----------+-----------+----------------+-----------+------------------+--------------------------+-------------------+\n",
      "|      43302|      38947|           43302|    42.8935|            150.02|                    150.02|            42.8935|\n",
      "|      20735|      40666|           20735|   327.5818|             89.06|                     89.06|           327.5818|\n",
      "|      77803|      41217|           77803|    -2.3232|              37.7|                      37.7|            -2.3232|\n",
      "|      13601|      39982|           13601|    302.373|            203.94|                    203.94|            302.373|\n",
      "|      80906|      39922|           80906|    149.148|            123.77|                    123.77|            149.148|\n",
      "|      93905|      38310|           93905|   196.6132|             42.26|                     42.26|           196.6132|\n",
      "|      60068|      38611|           60068|    48.5514|             24.22|                     24.22|            48.5514|\n",
      "|      48127|      40806|           48127|    47.0548|             53.42|                     53.42|            47.0548|\n",
      "|      78539|      37353|           78539|     30.392|             32.42|                     32.42|             30.392|\n",
      "|      29483|      33890|           29483|      39.55|          157.3632|                  157.3632|              39.55|\n",
      "|      94109|      41152|           94109|    352.296|            187.65|                    187.65|            352.296|\n",
      "|      60540|      40442|           60540|     83.986|            110.27|                    110.27|             83.986|\n",
      "|      11520|      40565|           11520|     64.518|             33.48|                     33.48|             64.518|\n",
      "|      67846|      39413|           67846|    74.8142|             21.72|                     21.72|            74.8142|\n",
      "|       8701|      41186|            8701|  2365.9818|            516.91|                    516.91|          2365.9818|\n",
      "|      65203|      40556|           65203|   751.7601|            274.82|                    274.82|           751.7601|\n",
      "|      33012|      41068|           33012|   101.3832|            178.96|                    178.96|           101.3832|\n",
      "|      23434|      40381|           23434|   157.1292|            104.25|                    104.25|           157.1292|\n",
      "|       7109|      39626|            7109|     71.991|             30.29|                     30.29|             71.991|\n",
      "|      54880|      38557|           54880|    301.968|             41.93|                     41.93|            301.968|\n",
      "+-----------+-----------+----------------+-----------+------------------+--------------------------+-------------------+\n",
      "only showing top 20 rows\n",
      "\n"
     ]
    }
   ],
   "source": [
    "df2.groupBy(\"Postal Code\").max().show()"
   ]
  },
  {
   "cell_type": "code",
   "execution_count": 102,
   "id": "add6dcf7",
   "metadata": {},
   "outputs": [
    {
     "name": "stdout",
     "output_type": "stream",
     "text": [
      "+-----------+------------------+----------------+------------------+------------------+--------------------------+-------------------+\n",
      "|Postal Code|       avg(Row ID)|avg(Postal Code)|       avg(Profit)|avg(Shipping Cost)|avg(Shipping Cost_imputed)|avg(Profit_imputed)|\n",
      "+-----------+------------------+----------------+------------------+------------------+--------------------------+-------------------+\n",
      "|      43302| 36587.92857142857|         43302.0|-36.99372857142857|26.392785714285715|        26.392785714285715| -36.99372857142857|\n",
      "|      20735| 36018.24137931035|         20735.0| 43.93938275862069|17.341724137931035|        17.341724137931035|  43.93938275862069|\n",
      "|      77803|40753.166666666664|         77803.0|-35.61860000000001| 7.973333333333334|         7.973333333333334| -35.61860000000001|\n",
      "|      13601|           35520.1|         13601.0|          89.82934|          47.97238|                  47.97238|           89.82934|\n",
      "|      80906|           35195.8|         80906.0|        -38.267364|19.504800000000003|        19.504800000000003|         -38.267364|\n",
      "|      93905|         33373.125|         93905.0|        33.8147625|           10.4475|                   10.4475|         33.8147625|\n",
      "|      60068|           35674.0|         60068.0|-79.48333333333333|              19.8|                      19.8| -79.48333333333333|\n",
      "|      48127|38793.166666666664|         48127.0|          23.48175|13.186666666666666|        13.186666666666666|           23.48175|\n",
      "|      78539|36633.333333333336|         78539.0| 9.269533333333333|11.093333333333334|        11.093333333333334|  9.269533333333333|\n",
      "|      29483|           33889.5|         29483.0|            19.775|           81.0466|                   81.0466|             19.775|\n",
      "|      94109| 36457.68085106383|         94109.0|30.963211347517728|  16.4582304964539|          16.4582304964539| 30.963211347517728|\n",
      "|      60540|           35077.0|         60540.0|         -18.31655|           18.6675|                   18.6675|          -18.31655|\n",
      "|      11520|           36183.5|         11520.0| 17.89363333333333| 9.809999999999999|         9.809999999999999|  17.89363333333333|\n",
      "|      67846|           38961.4|         67846.0|          18.12518| 6.593999999999999|         6.593999999999999|           18.12518|\n",
      "|       8701|         36640.125|          8701.0|146.94472916666666| 58.85416666666666|         58.85416666666666| 146.94472916666666|\n",
      "|      65203|           39029.9|         65203.0|105.35015000000001|41.825039999999994|        41.825039999999994| 105.35015000000001|\n",
      "|      33012|37263.666666666664|         33012.0|-9.983172222222223|23.023311111111113|        23.023311111111113| -9.983172222222223|\n",
      "|      23434|           36293.8|         23434.0| 38.98121999999999|            20.957|                    20.957|  38.98121999999999|\n",
      "|       7109|           34093.2|          7109.0|27.282439999999998|           7.72348|                   7.72348| 27.282439999999998|\n",
      "|      54880|           38193.0|         54880.0| 57.12024444444444|10.806666666666667|        10.806666666666667|  57.12024444444444|\n",
      "+-----------+------------------+----------------+------------------+------------------+--------------------------+-------------------+\n",
      "only showing top 20 rows\n",
      "\n"
     ]
    }
   ],
   "source": [
    "df2.groupBy(\"Postal Code\").avg().show()"
   ]
  },
  {
   "cell_type": "code",
   "execution_count": 109,
   "id": "48573033",
   "metadata": {},
   "outputs": [],
   "source": [
    "df_pyspark = spark.read.csv(\"C:/Users/91990/OneDrive/Desktop/tips.csv\", header = True, inferSchema = True)"
   ]
  },
  {
   "cell_type": "code",
   "execution_count": 110,
   "id": "be03972f",
   "metadata": {},
   "outputs": [
    {
     "data": {
      "text/plain": [
       "Row(total_bill=16.99, tip=1.01, sex='Female', smoker='No', day='Sun', time='Dinner', size=2)"
      ]
     },
     "execution_count": 110,
     "metadata": {},
     "output_type": "execute_result"
    }
   ],
   "source": [
    "df_pyspark.head()"
   ]
  },
  {
   "cell_type": "code",
   "execution_count": 111,
   "id": "98f3b97d",
   "metadata": {},
   "outputs": [
    {
     "data": {
      "text/plain": [
       "DataFrame[summary: string, total_bill: string, tip: string, sex: string, smoker: string, day: string, time: string, size: string]"
      ]
     },
     "execution_count": 111,
     "metadata": {},
     "output_type": "execute_result"
    }
   ],
   "source": [
    "df_pyspark.describe()"
   ]
  },
  {
   "cell_type": "code",
   "execution_count": 112,
   "id": "c5d478d3",
   "metadata": {},
   "outputs": [
    {
     "name": "stdout",
     "output_type": "stream",
     "text": [
      "root\n",
      " |-- total_bill: double (nullable = true)\n",
      " |-- tip: double (nullable = true)\n",
      " |-- sex: string (nullable = true)\n",
      " |-- smoker: string (nullable = true)\n",
      " |-- day: string (nullable = true)\n",
      " |-- time: string (nullable = true)\n",
      " |-- size: integer (nullable = true)\n",
      "\n"
     ]
    }
   ],
   "source": [
    "df_pyspark.printSchema()"
   ]
  },
  {
   "cell_type": "code",
   "execution_count": 113,
   "id": "5b4aff0d",
   "metadata": {},
   "outputs": [
    {
     "data": {
      "text/plain": [
       "['total_bill', 'tip', 'sex', 'smoker', 'day', 'time', 'size']"
      ]
     },
     "execution_count": 113,
     "metadata": {},
     "output_type": "execute_result"
    }
   ],
   "source": [
    "df_pyspark.columns"
   ]
  },
  {
   "cell_type": "code",
   "execution_count": 114,
   "id": "e0b16a65",
   "metadata": {},
   "outputs": [],
   "source": [
    "from pyspark.ml.feature import StringIndexer"
   ]
  },
  {
   "cell_type": "code",
   "execution_count": 115,
   "id": "26222480",
   "metadata": {},
   "outputs": [
    {
     "name": "stdout",
     "output_type": "stream",
     "text": [
      "+----------+----+------+------+---+------+----+-----------+\n",
      "|total_bill| tip|   sex|smoker|day|  time|size|sex_indexed|\n",
      "+----------+----+------+------+---+------+----+-----------+\n",
      "|     16.99|1.01|Female|    No|Sun|Dinner|   2|        1.0|\n",
      "|     10.34|1.66|  Male|    No|Sun|Dinner|   3|        0.0|\n",
      "|     21.01| 3.5|  Male|    No|Sun|Dinner|   3|        0.0|\n",
      "|     23.68|3.31|  Male|    No|Sun|Dinner|   2|        0.0|\n",
      "|     24.59|3.61|Female|    No|Sun|Dinner|   4|        1.0|\n",
      "|     25.29|4.71|  Male|    No|Sun|Dinner|   4|        0.0|\n",
      "|      8.77| 2.0|  Male|    No|Sun|Dinner|   2|        0.0|\n",
      "|     26.88|3.12|  Male|    No|Sun|Dinner|   4|        0.0|\n",
      "|     15.04|1.96|  Male|    No|Sun|Dinner|   2|        0.0|\n",
      "|     14.78|3.23|  Male|    No|Sun|Dinner|   2|        0.0|\n",
      "|     10.27|1.71|  Male|    No|Sun|Dinner|   2|        0.0|\n",
      "|     35.26| 5.0|Female|    No|Sun|Dinner|   4|        1.0|\n",
      "|     15.42|1.57|  Male|    No|Sun|Dinner|   2|        0.0|\n",
      "|     18.43| 3.0|  Male|    No|Sun|Dinner|   4|        0.0|\n",
      "|     14.83|3.02|Female|    No|Sun|Dinner|   2|        1.0|\n",
      "|     21.58|3.92|  Male|    No|Sun|Dinner|   2|        0.0|\n",
      "|     10.33|1.67|Female|    No|Sun|Dinner|   3|        1.0|\n",
      "|     16.29|3.71|  Male|    No|Sun|Dinner|   3|        0.0|\n",
      "|     16.97| 3.5|Female|    No|Sun|Dinner|   3|        1.0|\n",
      "|     20.65|3.35|  Male|    No|Sat|Dinner|   3|        0.0|\n",
      "+----------+----+------+------+---+------+----+-----------+\n",
      "only showing top 20 rows\n",
      "\n"
     ]
    }
   ],
   "source": [
    "indexer=StringIndexer(inputCol=\"sex\",outputCol=\"sex_indexed\")\n",
    "df_r=indexer.fit(df_pyspark).transform(df_pyspark)\n",
    "df_r.show()"
   ]
  },
  {
   "cell_type": "code",
   "execution_count": 116,
   "id": "33ac10bd",
   "metadata": {},
   "outputs": [
    {
     "name": "stdout",
     "output_type": "stream",
     "text": [
      "+----------+----+------+------+---+------+----+-----------+--------------+-----------+----------+\n",
      "|total_bill| tip|   sex|smoker|day|  time|size|sex_indexed|smoker_indexed|day_indexed|time_index|\n",
      "+----------+----+------+------+---+------+----+-----------+--------------+-----------+----------+\n",
      "|     16.99|1.01|Female|    No|Sun|Dinner|   2|        1.0|           0.0|        1.0|       0.0|\n",
      "|     10.34|1.66|  Male|    No|Sun|Dinner|   3|        0.0|           0.0|        1.0|       0.0|\n",
      "|     21.01| 3.5|  Male|    No|Sun|Dinner|   3|        0.0|           0.0|        1.0|       0.0|\n",
      "|     23.68|3.31|  Male|    No|Sun|Dinner|   2|        0.0|           0.0|        1.0|       0.0|\n",
      "|     24.59|3.61|Female|    No|Sun|Dinner|   4|        1.0|           0.0|        1.0|       0.0|\n",
      "|     25.29|4.71|  Male|    No|Sun|Dinner|   4|        0.0|           0.0|        1.0|       0.0|\n",
      "|      8.77| 2.0|  Male|    No|Sun|Dinner|   2|        0.0|           0.0|        1.0|       0.0|\n",
      "|     26.88|3.12|  Male|    No|Sun|Dinner|   4|        0.0|           0.0|        1.0|       0.0|\n",
      "|     15.04|1.96|  Male|    No|Sun|Dinner|   2|        0.0|           0.0|        1.0|       0.0|\n",
      "|     14.78|3.23|  Male|    No|Sun|Dinner|   2|        0.0|           0.0|        1.0|       0.0|\n",
      "|     10.27|1.71|  Male|    No|Sun|Dinner|   2|        0.0|           0.0|        1.0|       0.0|\n",
      "|     35.26| 5.0|Female|    No|Sun|Dinner|   4|        1.0|           0.0|        1.0|       0.0|\n",
      "|     15.42|1.57|  Male|    No|Sun|Dinner|   2|        0.0|           0.0|        1.0|       0.0|\n",
      "|     18.43| 3.0|  Male|    No|Sun|Dinner|   4|        0.0|           0.0|        1.0|       0.0|\n",
      "|     14.83|3.02|Female|    No|Sun|Dinner|   2|        1.0|           0.0|        1.0|       0.0|\n",
      "|     21.58|3.92|  Male|    No|Sun|Dinner|   2|        0.0|           0.0|        1.0|       0.0|\n",
      "|     10.33|1.67|Female|    No|Sun|Dinner|   3|        1.0|           0.0|        1.0|       0.0|\n",
      "|     16.29|3.71|  Male|    No|Sun|Dinner|   3|        0.0|           0.0|        1.0|       0.0|\n",
      "|     16.97| 3.5|Female|    No|Sun|Dinner|   3|        1.0|           0.0|        1.0|       0.0|\n",
      "|     20.65|3.35|  Male|    No|Sat|Dinner|   3|        0.0|           0.0|        0.0|       0.0|\n",
      "+----------+----+------+------+---+------+----+-----------+--------------+-----------+----------+\n",
      "only showing top 20 rows\n",
      "\n"
     ]
    }
   ],
   "source": [
    "indexer=StringIndexer(inputCols=[\"smoker\",\"day\",\"time\"],outputCols=[\"smoker_indexed\",\"day_indexed\",\n",
    "                                                                  \"time_index\"])\n",
    "df_r=indexer.fit(df_r).transform(df_r)\n",
    "df_r.show()"
   ]
  },
  {
   "cell_type": "code",
   "execution_count": 117,
   "id": "fb40575b",
   "metadata": {},
   "outputs": [
    {
     "data": {
      "text/plain": [
       "['total_bill',\n",
       " 'tip',\n",
       " 'sex',\n",
       " 'smoker',\n",
       " 'day',\n",
       " 'time',\n",
       " 'size',\n",
       " 'sex_indexed',\n",
       " 'smoker_indexed',\n",
       " 'day_indexed',\n",
       " 'time_index']"
      ]
     },
     "execution_count": 117,
     "metadata": {},
     "output_type": "execute_result"
    }
   ],
   "source": [
    "df_r.columns"
   ]
  },
  {
   "cell_type": "code",
   "execution_count": 118,
   "id": "6a51e4e5",
   "metadata": {},
   "outputs": [],
   "source": [
    "from pyspark.ml.feature import VectorAssembler\n",
    "featureassembler=VectorAssembler(inputCols=['tip','size','sex_indexed','smoker_indexed','day_indexed',\n",
    "                          'time_index'],outputCol=\"Independent Features\")\n",
    "output=featureassembler.transform(df_r)"
   ]
  },
  {
   "cell_type": "code",
   "execution_count": 119,
   "id": "03723413",
   "metadata": {},
   "outputs": [
    {
     "name": "stdout",
     "output_type": "stream",
     "text": [
      "+--------------------+\n",
      "|Independent Features|\n",
      "+--------------------+\n",
      "|[1.01,2.0,1.0,0.0...|\n",
      "|[1.66,3.0,0.0,0.0...|\n",
      "|[3.5,3.0,0.0,0.0,...|\n",
      "|[3.31,2.0,0.0,0.0...|\n",
      "|[3.61,4.0,1.0,0.0...|\n",
      "|[4.71,4.0,0.0,0.0...|\n",
      "|[2.0,2.0,0.0,0.0,...|\n",
      "|[3.12,4.0,0.0,0.0...|\n",
      "|[1.96,2.0,0.0,0.0...|\n",
      "|[3.23,2.0,0.0,0.0...|\n",
      "|[1.71,2.0,0.0,0.0...|\n",
      "|[5.0,4.0,1.0,0.0,...|\n",
      "|[1.57,2.0,0.0,0.0...|\n",
      "|[3.0,4.0,0.0,0.0,...|\n",
      "|[3.02,2.0,1.0,0.0...|\n",
      "|[3.92,2.0,0.0,0.0...|\n",
      "|[1.67,3.0,1.0,0.0...|\n",
      "|[3.71,3.0,0.0,0.0...|\n",
      "|[3.5,3.0,1.0,0.0,...|\n",
      "|(6,[0,1],[3.35,3.0])|\n",
      "+--------------------+\n",
      "only showing top 20 rows\n",
      "\n"
     ]
    }
   ],
   "source": [
    "output.select('Independent Features').show()"
   ]
  },
  {
   "cell_type": "code",
   "execution_count": 120,
   "id": "4aaa2d20",
   "metadata": {},
   "outputs": [
    {
     "name": "stdout",
     "output_type": "stream",
     "text": [
      "+----------+----+------+------+---+------+----+-----------+--------------+-----------+----------+--------------------+\n",
      "|total_bill| tip|   sex|smoker|day|  time|size|sex_indexed|smoker_indexed|day_indexed|time_index|Independent Features|\n",
      "+----------+----+------+------+---+------+----+-----------+--------------+-----------+----------+--------------------+\n",
      "|     16.99|1.01|Female|    No|Sun|Dinner|   2|        1.0|           0.0|        1.0|       0.0|[1.01,2.0,1.0,0.0...|\n",
      "|     10.34|1.66|  Male|    No|Sun|Dinner|   3|        0.0|           0.0|        1.0|       0.0|[1.66,3.0,0.0,0.0...|\n",
      "|     21.01| 3.5|  Male|    No|Sun|Dinner|   3|        0.0|           0.0|        1.0|       0.0|[3.5,3.0,0.0,0.0,...|\n",
      "|     23.68|3.31|  Male|    No|Sun|Dinner|   2|        0.0|           0.0|        1.0|       0.0|[3.31,2.0,0.0,0.0...|\n",
      "|     24.59|3.61|Female|    No|Sun|Dinner|   4|        1.0|           0.0|        1.0|       0.0|[3.61,4.0,1.0,0.0...|\n",
      "|     25.29|4.71|  Male|    No|Sun|Dinner|   4|        0.0|           0.0|        1.0|       0.0|[4.71,4.0,0.0,0.0...|\n",
      "|      8.77| 2.0|  Male|    No|Sun|Dinner|   2|        0.0|           0.0|        1.0|       0.0|[2.0,2.0,0.0,0.0,...|\n",
      "|     26.88|3.12|  Male|    No|Sun|Dinner|   4|        0.0|           0.0|        1.0|       0.0|[3.12,4.0,0.0,0.0...|\n",
      "|     15.04|1.96|  Male|    No|Sun|Dinner|   2|        0.0|           0.0|        1.0|       0.0|[1.96,2.0,0.0,0.0...|\n",
      "|     14.78|3.23|  Male|    No|Sun|Dinner|   2|        0.0|           0.0|        1.0|       0.0|[3.23,2.0,0.0,0.0...|\n",
      "|     10.27|1.71|  Male|    No|Sun|Dinner|   2|        0.0|           0.0|        1.0|       0.0|[1.71,2.0,0.0,0.0...|\n",
      "|     35.26| 5.0|Female|    No|Sun|Dinner|   4|        1.0|           0.0|        1.0|       0.0|[5.0,4.0,1.0,0.0,...|\n",
      "|     15.42|1.57|  Male|    No|Sun|Dinner|   2|        0.0|           0.0|        1.0|       0.0|[1.57,2.0,0.0,0.0...|\n",
      "|     18.43| 3.0|  Male|    No|Sun|Dinner|   4|        0.0|           0.0|        1.0|       0.0|[3.0,4.0,0.0,0.0,...|\n",
      "|     14.83|3.02|Female|    No|Sun|Dinner|   2|        1.0|           0.0|        1.0|       0.0|[3.02,2.0,1.0,0.0...|\n",
      "|     21.58|3.92|  Male|    No|Sun|Dinner|   2|        0.0|           0.0|        1.0|       0.0|[3.92,2.0,0.0,0.0...|\n",
      "|     10.33|1.67|Female|    No|Sun|Dinner|   3|        1.0|           0.0|        1.0|       0.0|[1.67,3.0,1.0,0.0...|\n",
      "|     16.29|3.71|  Male|    No|Sun|Dinner|   3|        0.0|           0.0|        1.0|       0.0|[3.71,3.0,0.0,0.0...|\n",
      "|     16.97| 3.5|Female|    No|Sun|Dinner|   3|        1.0|           0.0|        1.0|       0.0|[3.5,3.0,1.0,0.0,...|\n",
      "|     20.65|3.35|  Male|    No|Sat|Dinner|   3|        0.0|           0.0|        0.0|       0.0|(6,[0,1],[3.35,3.0])|\n",
      "+----------+----+------+------+---+------+----+-----------+--------------+-----------+----------+--------------------+\n",
      "only showing top 20 rows\n",
      "\n"
     ]
    }
   ],
   "source": [
    "output.show()"
   ]
  },
  {
   "cell_type": "code",
   "execution_count": 121,
   "id": "daee302c",
   "metadata": {},
   "outputs": [],
   "source": [
    "finalized_data=output.select(\"Independent Features\",\"total_bill\")"
   ]
  },
  {
   "cell_type": "code",
   "execution_count": 122,
   "id": "86077c03",
   "metadata": {},
   "outputs": [],
   "source": [
    "from pyspark.ml.regression import LinearRegression\n",
    "##train test split\n",
    "train_data,test_data=finalized_data.randomSplit([0.75,0.25])\n",
    "regressor=LinearRegression(featuresCol='Independent Features', labelCol='total_bill')\n",
    "regressor=regressor.fit(train_data)"
   ]
  },
  {
   "cell_type": "code",
   "execution_count": 123,
   "id": "eec4ff4d",
   "metadata": {},
   "outputs": [
    {
     "data": {
      "text/plain": [
       "DenseVector([3.1936, 3.3429, -1.252, 2.4849, -0.2451, -1.7945])"
      ]
     },
     "execution_count": 123,
     "metadata": {},
     "output_type": "execute_result"
    }
   ],
   "source": [
    "\n",
    "regressor.coefficients"
   ]
  },
  {
   "cell_type": "code",
   "execution_count": 124,
   "id": "9832afb8",
   "metadata": {},
   "outputs": [
    {
     "data": {
      "text/plain": [
       "1.8871557672431074"
      ]
     },
     "execution_count": 124,
     "metadata": {},
     "output_type": "execute_result"
    }
   ],
   "source": [
    "regressor.intercept"
   ]
  },
  {
   "cell_type": "code",
   "execution_count": 125,
   "id": "9eeb81eb",
   "metadata": {},
   "outputs": [],
   "source": [
    "### Predictions\n",
    "pred_results=regressor.evaluate(test_data)"
   ]
  },
  {
   "cell_type": "code",
   "execution_count": 126,
   "id": "4aa9d89c",
   "metadata": {},
   "outputs": [
    {
     "name": "stdout",
     "output_type": "stream",
     "text": [
      "+--------------------+----------+------------------+\n",
      "|Independent Features|total_bill|        prediction|\n",
      "+--------------------+----------+------------------+\n",
      "|(6,[0,1],[1.97,2.0])|     12.02| 14.86420364549613|\n",
      "| (6,[0,1],[2.0,2.0])|     13.37|14.960010574473548|\n",
      "| (6,[0,1],[2.0,3.0])|     16.31|18.302873678841426|\n",
      "|(6,[0,1],[2.24,3.0])|     16.04| 19.06932911066079|\n",
      "|(6,[0,1],[2.34,4.0])|     17.81|  22.7315486449534|\n",
      "| (6,[0,1],[2.5,4.0])|     18.35|23.242518932832972|\n",
      "| (6,[0,1],[3.0,2.0])|      14.0|18.153574873720892|\n",
      "|(6,[0,1],[3.35,3.0])|     20.65|22.614185482825338|\n",
      "|(6,[0,1],[3.39,2.0])|     11.61|19.399064950427356|\n",
      "|(6,[0,1],[5.92,3.0])|     29.03| 30.82164573189101|\n",
      "|[1.0,1.0,1.0,1.0,...|      3.07| 9.656513879142594|\n",
      "|[1.1,2.0,1.0,1.0,...|      12.9|13.318733413435204|\n",
      "|[1.25,2.0,1.0,0.0...|      8.51| 9.027995717251617|\n",
      "|[1.36,3.0,1.0,0.0...|     18.64|12.722150894536703|\n",
      "|[1.48,2.0,0.0,0.0...|      8.52|11.014527750072693|\n",
      "|[1.5,2.0,1.0,0.0,...|     26.41|12.111216180855692|\n",
      "|[1.5,2.0,1.0,0.0,...|     11.17| 9.826386792063454|\n",
      "|[1.67,3.0,1.0,0.0...|     10.33| 15.75184039617411|\n",
      "|[1.68,2.0,1.0,0.0...|     13.42|10.401228365927976|\n",
      "|[1.76,2.0,0.0,1.0...|     11.24|16.678498094932635|\n",
      "+--------------------+----------+------------------+\n",
      "only showing top 20 rows\n",
      "\n"
     ]
    }
   ],
   "source": [
    "pred_results.predictions.show()"
   ]
  },
  {
   "cell_type": "code",
   "execution_count": 127,
   "id": "4eb44362",
   "metadata": {},
   "outputs": [
    {
     "data": {
      "text/plain": [
       "(0.41963603011274164, 4.426267166320896, 32.93271560567401)"
      ]
     },
     "execution_count": 127,
     "metadata": {},
     "output_type": "execute_result"
    }
   ],
   "source": [
    "### PErformance Metrics\n",
    "pred_results.r2,pred_results.meanAbsoluteError,pred_results.meanSquaredError"
   ]
  },
  {
   "cell_type": "code",
   "execution_count": null,
   "id": "506a3184",
   "metadata": {},
   "outputs": [],
   "source": []
  }
 ],
 "metadata": {
  "kernelspec": {
   "display_name": "Python 3 (ipykernel)",
   "language": "python",
   "name": "python3"
  },
  "language_info": {
   "codemirror_mode": {
    "name": "ipython",
    "version": 3
   },
   "file_extension": ".py",
   "mimetype": "text/x-python",
   "name": "python",
   "nbconvert_exporter": "python",
   "pygments_lexer": "ipython3",
   "version": "3.9.12"
  }
 },
 "nbformat": 4,
 "nbformat_minor": 5
}
